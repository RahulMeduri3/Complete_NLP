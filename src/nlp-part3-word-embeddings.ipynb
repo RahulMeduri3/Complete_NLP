{
 "cells": [
  {
   "cell_type": "code",
   "execution_count": 1,
   "id": "3746f373",
   "metadata": {
    "_cell_guid": "b1076dfc-b9ad-4769-8c92-a6c4dae69d19",
    "_uuid": "8f2839f25d086af736a60e9eeb907d3b93b6e0e5",
    "execution": {
     "iopub.execute_input": "2022-01-29T06:56:39.251674Z",
     "iopub.status.busy": "2022-01-29T06:56:39.249925Z",
     "iopub.status.idle": "2022-01-29T06:56:39.263229Z",
     "shell.execute_reply": "2022-01-29T06:56:39.263959Z",
     "shell.execute_reply.started": "2022-01-15T05:45:24.162938Z"
    },
    "papermill": {
     "duration": 0.055737,
     "end_time": "2022-01-29T06:56:39.264270",
     "exception": false,
     "start_time": "2022-01-29T06:56:39.208533",
     "status": "completed"
    },
    "tags": []
   },
   "outputs": [
    {
     "name": "stdout",
     "output_type": "stream",
     "text": [
      "/kaggle/input/quora-insincere-questions-classification/sample_submission.csv\n",
      "/kaggle/input/quora-insincere-questions-classification/embeddings.zip\n",
      "/kaggle/input/quora-insincere-questions-classification/train.csv\n",
      "/kaggle/input/quora-insincere-questions-classification/test.csv\n"
     ]
    }
   ],
   "source": [
    "# This Python 3 environment comes with many helpful analytics libraries installed\n",
    "# It is defined by the kaggle/python Docker image: https://github.com/kaggle/docker-python\n",
    "# For example, here's several helpful packages to load\n",
    "\n",
    "import numpy as np # linear algebra\n",
    "import pandas as pd # data processing, CSV file I/O (e.g. pd.read_csv)\n",
    "\n",
    "# Input data files are available in the read-only \"../input/\" directory\n",
    "# For example, running this (by clicking run or pressing Shift+Enter) will list all files under the input directory\n",
    "\n",
    "import os\n",
    "for dirname, _, filenames in os.walk('/kaggle/input'):\n",
    "    for filename in filenames:\n",
    "        print(os.path.join(dirname, filename))\n",
    "\n",
    "# You can write up to 20GB to the current directory (/kaggle/working/) that gets preserved as output when you create a version using \"Save & Run All\" \n",
    "# You can also write temporary files to /kaggle/temp/, but they won't be saved outside of the current session"
   ]
  },
  {
   "cell_type": "markdown",
   "id": "348b9c44",
   "metadata": {
    "papermill": {
     "duration": 0.036617,
     "end_time": "2022-01-29T06:56:39.340312",
     "exception": false,
     "start_time": "2022-01-29T06:56:39.303695",
     "status": "completed"
    },
    "tags": []
   },
   "source": [
    "# Word Embeddings\n",
    "Word Embedding is the vector representation of words. But here the context of the word is preserved. If two words have similar context then the vector representation for them should be same.\n",
    "\n",
    "## Few points to consider for better understanding\n",
    "**Eg Sentences/Documents: 1)It is a good day 2) It is a great day** \n",
    "1. Vector representation is nothing but One-hot encodng of a word. we create a vocabulary from above documents and oneHot encode them.\n",
    "2. The words \"good\" and \"great\" have similar context but with oneHot encoding both are independent of each other. Word Embeddings help us achieve this.\n",
    "\n",
    "## How do we get this Word Vector Representation\n",
    "1. Word vector representation is a bi-product of a language model **(A typical language model input word -> Language Model ML/DL -> Output Word)**\n",
    "2. We pass the input word through a neural network(with linear activation) and obtain the target word. The weight matrix that is obtained from the model is the Word Embedding Matrix (We throw away the model after obtaining this).\n",
    "\n",
    "## What methods do we have for this Word Vector Representation\n",
    "1. DTM\n",
    "2. Word2Vec\n",
    "3. GLOVE and others.\n",
    "\n",
    "# Word2Vec\n",
    "Word2Vec is a statistical method for efficiently learning a standalone word embedding from a text corpus.\n",
    "We have two different models as part of Word2Vec to obtain word embedding.\n",
    "1. CBOW (Continuous Bag of Words).\n",
    "2. Skipgram\n",
    "\n",
    "### In CBOW or skipgram, the problem is if you have a very large corpus then training would take very large amount of time and resources as you have to train very large set of weights. Another problem is in skiggram we use a Softmax activation function which is costly. As a result we have two approaches in Skipgram\n",
    "1. Subsampling\n",
    "2. Negative Sampling.\n",
    "\n",
    "I haven't explained them in detail (just model building) but please find these resources helpful\n",
    "* http://mccormickml.com/2016/04/19/word2vec-tutorial-the-skip-gram-model/\n",
    "* http://mccormickml.com/2017/01/11/word2vec-tutorial-part-2-negative-sampling/\n",
    "* https://www.youtube.com/watch?v=BWaHLmG1lak&ab_channel=Rasa"
   ]
  },
  {
   "cell_type": "code",
   "execution_count": 2,
   "id": "059b7484",
   "metadata": {
    "execution": {
     "iopub.execute_input": "2022-01-29T06:56:39.418905Z",
     "iopub.status.busy": "2022-01-29T06:56:39.418384Z",
     "iopub.status.idle": "2022-01-29T06:56:39.430817Z",
     "shell.execute_reply": "2022-01-29T06:56:39.431445Z",
     "shell.execute_reply.started": "2022-01-15T05:45:24.184039Z"
    },
    "papermill": {
     "duration": 0.053163,
     "end_time": "2022-01-29T06:56:39.431605",
     "exception": false,
     "start_time": "2022-01-29T06:56:39.378442",
     "status": "completed"
    },
    "tags": []
   },
   "outputs": [
    {
     "data": {
      "text/plain": [
       "[<ZipInfo filename='GoogleNews-vectors-negative300/' filemode='drwxrwxr-x' external_attr=0x10>,\n",
       " <ZipInfo filename='glove.840B.300d/' filemode='drwxrwxr-x' external_attr=0x10>,\n",
       " <ZipInfo filename='paragram_300_sl999/' filemode='drwxr-xr-x' external_attr=0x10>,\n",
       " <ZipInfo filename='wiki-news-300d-1M/' filemode='drwxrwxr-x' external_attr=0x10>,\n",
       " <ZipInfo filename='glove.840B.300d/glove.840B.300d.txt' compress_type=deflate filemode='-rw-rw-r--' file_size=5646236541 compress_size=2178478737>,\n",
       " <ZipInfo filename='GoogleNews-vectors-negative300/GoogleNews-vectors-negative300.bin' compress_type=deflate filemode='-rw-rw-r--' file_size=3644258522 compress_size=1746270195>,\n",
       " <ZipInfo filename='wiki-news-300d-1M/wiki-news-300d-1M.vec' compress_type=deflate filemode='-rw-r--r--' file_size=2259088777 compress_size=682384991>,\n",
       " <ZipInfo filename='paragram_300_sl999/README.txt' compress_type=deflate filemode='-rw-r--r--' file_size=731 compress_size=441>,\n",
       " <ZipInfo filename='paragram_300_sl999/paragram_300_sl999.txt' compress_type=deflate filemode='-rw-r-----' file_size=4555969303 compress_size=1788784124>]"
      ]
     },
     "execution_count": 2,
     "metadata": {},
     "output_type": "execute_result"
    }
   ],
   "source": [
    "from zipfile import ZipFile\n",
    "zip_path = '/kaggle/input/quora-insincere-questions-classification/embeddings.zip'\n",
    "zf = ZipFile(zip_path)\n",
    "zf.filelist"
   ]
  },
  {
   "cell_type": "markdown",
   "id": "8717784c",
   "metadata": {
    "papermill": {
     "duration": 0.044398,
     "end_time": "2022-01-29T06:56:39.512947",
     "exception": false,
     "start_time": "2022-01-29T06:56:39.468549",
     "status": "completed"
    },
    "tags": []
   },
   "source": [
    "## Custom Word Embeddings using gensim Library"
   ]
  },
  {
   "cell_type": "code",
   "execution_count": 3,
   "id": "de97547c",
   "metadata": {
    "execution": {
     "iopub.execute_input": "2022-01-29T06:56:39.622843Z",
     "iopub.status.busy": "2022-01-29T06:56:39.622024Z",
     "iopub.status.idle": "2022-01-29T06:56:40.538741Z",
     "shell.execute_reply": "2022-01-29T06:56:40.538032Z",
     "shell.execute_reply.started": "2022-01-15T05:45:24.20545Z"
    },
    "papermill": {
     "duration": 0.962368,
     "end_time": "2022-01-29T06:56:40.538877",
     "exception": false,
     "start_time": "2022-01-29T06:56:39.576509",
     "status": "completed"
    },
    "tags": []
   },
   "outputs": [],
   "source": [
    "from gensim.models import word2vec"
   ]
  },
  {
   "cell_type": "markdown",
   "id": "d27e1669",
   "metadata": {
    "papermill": {
     "duration": 0.036617,
     "end_time": "2022-01-29T06:56:40.613430",
     "exception": false,
     "start_time": "2022-01-29T06:56:40.576813",
     "status": "completed"
    },
    "tags": []
   },
   "source": [
    "**NOTE**<br>\n",
    "Word2Vec model has an argument sentences which takes list of list of tokens, so we are splitting in below code.\n",
    "If you pass the list without splitting, you won't get an error but you will have unique characters as tokens (imagine like a letter embedding (I'm not sure but just for understanding))"
   ]
  },
  {
   "cell_type": "code",
   "execution_count": 4,
   "id": "1bc62516",
   "metadata": {
    "execution": {
     "iopub.execute_input": "2022-01-29T06:56:40.692406Z",
     "iopub.status.busy": "2022-01-29T06:56:40.691778Z",
     "iopub.status.idle": "2022-01-29T06:56:40.696140Z",
     "shell.execute_reply": "2022-01-29T06:56:40.696558Z",
     "shell.execute_reply.started": "2022-01-15T05:45:25.148479Z"
    },
    "papermill": {
     "duration": 0.046928,
     "end_time": "2022-01-29T06:56:40.696681",
     "exception": false,
     "start_time": "2022-01-29T06:56:40.649753",
     "status": "completed"
    },
    "tags": []
   },
   "outputs": [
    {
     "data": {
      "text/plain": [
       "[['it', 'is', 'a', 'good', 'day'],\n",
       " ['it', 'is', 'a', 'great', 'day'],\n",
       " ['it', 'was', 'bad', 'day']]"
      ]
     },
     "execution_count": 4,
     "metadata": {},
     "output_type": "execute_result"
    }
   ],
   "source": [
    "docs = ['it is a good day', 'it is a great day', 'it was bad day']\n",
    "docs_words = [doc.split(' ')for doc in docs]\n",
    "docs_words"
   ]
  },
  {
   "cell_type": "code",
   "execution_count": 5,
   "id": "963c4197",
   "metadata": {
    "execution": {
     "iopub.execute_input": "2022-01-29T06:56:40.779572Z",
     "iopub.status.busy": "2022-01-29T06:56:40.778981Z",
     "iopub.status.idle": "2022-01-29T06:56:40.792799Z",
     "shell.execute_reply": "2022-01-29T06:56:40.791908Z",
     "shell.execute_reply.started": "2022-01-15T05:45:25.158378Z"
    },
    "papermill": {
     "duration": 0.058965,
     "end_time": "2022-01-29T06:56:40.792909",
     "exception": false,
     "start_time": "2022-01-29T06:56:40.733944",
     "status": "completed"
    },
    "tags": []
   },
   "outputs": [
    {
     "data": {
      "text/plain": [
       "['day', 'it', 'a', 'is', 'bad', 'was', 'great', 'good']"
      ]
     },
     "execution_count": 5,
     "metadata": {},
     "output_type": "execute_result"
    }
   ],
   "source": [
    "embedding_dim = 50 # dimension of word vector representation\n",
    "# min_count: minimum frequency required for a word to be considered\n",
    "# window : window_size as in how many words to be considered in training sample before and after the word\n",
    "# sg=1 : tells to use skipgram else CBOW\n",
    "model = word2vec.Word2Vec(sentences=docs_words, vector_size=embedding_dim, min_count=1, window=2, sg=1)\n",
    "vocab = model.wv.index_to_key\n",
    "vocab"
   ]
  },
  {
   "cell_type": "code",
   "execution_count": 6,
   "id": "9dff8d87",
   "metadata": {
    "execution": {
     "iopub.execute_input": "2022-01-29T06:56:40.873995Z",
     "iopub.status.busy": "2022-01-29T06:56:40.873239Z",
     "iopub.status.idle": "2022-01-29T06:56:40.877096Z",
     "shell.execute_reply": "2022-01-29T06:56:40.876451Z",
     "shell.execute_reply.started": "2022-01-15T05:45:25.182357Z"
    },
    "papermill": {
     "duration": 0.045751,
     "end_time": "2022-01-29T06:56:40.877268",
     "exception": false,
     "start_time": "2022-01-29T06:56:40.831517",
     "status": "completed"
    },
    "tags": []
   },
   "outputs": [
    {
     "name": "stdout",
     "output_type": "stream",
     "text": [
      "-0.11821284\n",
      "0.11253632\n"
     ]
    }
   ],
   "source": [
    "print(model.wv.similarity('day', 'bad'))\n",
    "print(model.wv.similarity('good', 'great'))"
   ]
  },
  {
   "cell_type": "code",
   "execution_count": 7,
   "id": "f046758d",
   "metadata": {
    "execution": {
     "iopub.execute_input": "2022-01-29T06:56:40.963781Z",
     "iopub.status.busy": "2022-01-29T06:56:40.963049Z",
     "iopub.status.idle": "2022-01-29T06:56:40.988077Z",
     "shell.execute_reply": "2022-01-29T06:56:40.987600Z",
     "shell.execute_reply.started": "2022-01-15T05:45:25.190285Z"
    },
    "papermill": {
     "duration": 0.07161,
     "end_time": "2022-01-29T06:56:40.988220",
     "exception": false,
     "start_time": "2022-01-29T06:56:40.916610",
     "status": "completed"
    },
    "tags": []
   },
   "outputs": [
    {
     "data": {
      "text/html": [
       "<div>\n",
       "<style scoped>\n",
       "    .dataframe tbody tr th:only-of-type {\n",
       "        vertical-align: middle;\n",
       "    }\n",
       "\n",
       "    .dataframe tbody tr th {\n",
       "        vertical-align: top;\n",
       "    }\n",
       "\n",
       "    .dataframe thead th {\n",
       "        text-align: right;\n",
       "    }\n",
       "</style>\n",
       "<table border=\"1\" class=\"dataframe\">\n",
       "  <thead>\n",
       "    <tr style=\"text-align: right;\">\n",
       "      <th></th>\n",
       "      <th>0</th>\n",
       "      <th>1</th>\n",
       "      <th>2</th>\n",
       "      <th>3</th>\n",
       "      <th>4</th>\n",
       "      <th>5</th>\n",
       "      <th>6</th>\n",
       "      <th>7</th>\n",
       "      <th>8</th>\n",
       "      <th>9</th>\n",
       "      <th>...</th>\n",
       "      <th>40</th>\n",
       "      <th>41</th>\n",
       "      <th>42</th>\n",
       "      <th>43</th>\n",
       "      <th>44</th>\n",
       "      <th>45</th>\n",
       "      <th>46</th>\n",
       "      <th>47</th>\n",
       "      <th>48</th>\n",
       "      <th>49</th>\n",
       "    </tr>\n",
       "  </thead>\n",
       "  <tbody>\n",
       "    <tr>\n",
       "      <th>day</th>\n",
       "      <td>-0.001072</td>\n",
       "      <td>0.000473</td>\n",
       "      <td>0.010207</td>\n",
       "      <td>0.018019</td>\n",
       "      <td>-0.018606</td>\n",
       "      <td>-0.014234</td>\n",
       "      <td>0.012918</td>\n",
       "      <td>0.017946</td>\n",
       "      <td>-0.010031</td>\n",
       "      <td>-0.007527</td>\n",
       "      <td>...</td>\n",
       "      <td>-0.019207</td>\n",
       "      <td>0.010015</td>\n",
       "      <td>-0.017519</td>\n",
       "      <td>-0.008784</td>\n",
       "      <td>-0.000070</td>\n",
       "      <td>-0.000592</td>\n",
       "      <td>-0.015322</td>\n",
       "      <td>0.019229</td>\n",
       "      <td>0.009964</td>\n",
       "      <td>0.018466</td>\n",
       "    </tr>\n",
       "    <tr>\n",
       "      <th>it</th>\n",
       "      <td>-0.016316</td>\n",
       "      <td>0.008992</td>\n",
       "      <td>-0.008274</td>\n",
       "      <td>0.001649</td>\n",
       "      <td>0.016997</td>\n",
       "      <td>-0.008924</td>\n",
       "      <td>0.009035</td>\n",
       "      <td>-0.013574</td>\n",
       "      <td>-0.007097</td>\n",
       "      <td>0.018797</td>\n",
       "      <td>...</td>\n",
       "      <td>0.003263</td>\n",
       "      <td>0.000380</td>\n",
       "      <td>0.006947</td>\n",
       "      <td>0.000436</td>\n",
       "      <td>0.019238</td>\n",
       "      <td>0.010121</td>\n",
       "      <td>-0.017835</td>\n",
       "      <td>-0.014083</td>\n",
       "      <td>0.001803</td>\n",
       "      <td>0.012785</td>\n",
       "    </tr>\n",
       "    <tr>\n",
       "      <th>a</th>\n",
       "      <td>-0.017239</td>\n",
       "      <td>0.007331</td>\n",
       "      <td>0.010380</td>\n",
       "      <td>0.011484</td>\n",
       "      <td>0.014934</td>\n",
       "      <td>-0.012335</td>\n",
       "      <td>0.002211</td>\n",
       "      <td>0.012095</td>\n",
       "      <td>-0.005680</td>\n",
       "      <td>-0.012347</td>\n",
       "      <td>...</td>\n",
       "      <td>0.015796</td>\n",
       "      <td>-0.013979</td>\n",
       "      <td>-0.018312</td>\n",
       "      <td>-0.000712</td>\n",
       "      <td>-0.006200</td>\n",
       "      <td>0.015789</td>\n",
       "      <td>0.011877</td>\n",
       "      <td>-0.003091</td>\n",
       "      <td>0.003022</td>\n",
       "      <td>0.003580</td>\n",
       "    </tr>\n",
       "    <tr>\n",
       "      <th>is</th>\n",
       "      <td>0.015635</td>\n",
       "      <td>-0.019020</td>\n",
       "      <td>-0.000411</td>\n",
       "      <td>0.006938</td>\n",
       "      <td>-0.001878</td>\n",
       "      <td>0.016764</td>\n",
       "      <td>0.018022</td>\n",
       "      <td>0.013073</td>\n",
       "      <td>-0.001423</td>\n",
       "      <td>0.015421</td>\n",
       "      <td>...</td>\n",
       "      <td>0.002175</td>\n",
       "      <td>-0.003152</td>\n",
       "      <td>0.004393</td>\n",
       "      <td>-0.015763</td>\n",
       "      <td>-0.005434</td>\n",
       "      <td>0.005326</td>\n",
       "      <td>0.010693</td>\n",
       "      <td>-0.004783</td>\n",
       "      <td>-0.019020</td>\n",
       "      <td>0.009012</td>\n",
       "    </tr>\n",
       "    <tr>\n",
       "      <th>bad</th>\n",
       "      <td>0.000189</td>\n",
       "      <td>0.006155</td>\n",
       "      <td>-0.013625</td>\n",
       "      <td>-0.002751</td>\n",
       "      <td>0.015337</td>\n",
       "      <td>0.014693</td>\n",
       "      <td>-0.007347</td>\n",
       "      <td>0.005285</td>\n",
       "      <td>-0.016634</td>\n",
       "      <td>0.012411</td>\n",
       "      <td>...</td>\n",
       "      <td>-0.011188</td>\n",
       "      <td>0.003461</td>\n",
       "      <td>-0.001795</td>\n",
       "      <td>0.013587</td>\n",
       "      <td>0.007947</td>\n",
       "      <td>0.009059</td>\n",
       "      <td>0.002869</td>\n",
       "      <td>-0.005400</td>\n",
       "      <td>-0.008734</td>\n",
       "      <td>-0.002064</td>\n",
       "    </tr>\n",
       "    <tr>\n",
       "      <th>was</th>\n",
       "      <td>0.002874</td>\n",
       "      <td>-0.005292</td>\n",
       "      <td>-0.014148</td>\n",
       "      <td>-0.015611</td>\n",
       "      <td>-0.018244</td>\n",
       "      <td>-0.011870</td>\n",
       "      <td>-0.003695</td>\n",
       "      <td>-0.008648</td>\n",
       "      <td>-0.012921</td>\n",
       "      <td>-0.007435</td>\n",
       "      <td>...</td>\n",
       "      <td>-0.009019</td>\n",
       "      <td>0.011403</td>\n",
       "      <td>0.018360</td>\n",
       "      <td>-0.008200</td>\n",
       "      <td>0.015929</td>\n",
       "      <td>0.010751</td>\n",
       "      <td>0.011758</td>\n",
       "      <td>0.001025</td>\n",
       "      <td>0.016426</td>\n",
       "      <td>-0.014038</td>\n",
       "    </tr>\n",
       "    <tr>\n",
       "      <th>great</th>\n",
       "      <td>-0.016485</td>\n",
       "      <td>0.018599</td>\n",
       "      <td>-0.000395</td>\n",
       "      <td>-0.003935</td>\n",
       "      <td>0.009207</td>\n",
       "      <td>-0.008191</td>\n",
       "      <td>0.005486</td>\n",
       "      <td>0.013880</td>\n",
       "      <td>0.012131</td>\n",
       "      <td>-0.015022</td>\n",
       "      <td>...</td>\n",
       "      <td>0.006860</td>\n",
       "      <td>0.010332</td>\n",
       "      <td>0.012565</td>\n",
       "      <td>-0.005609</td>\n",
       "      <td>0.014645</td>\n",
       "      <td>0.005661</td>\n",
       "      <td>0.005742</td>\n",
       "      <td>-0.004761</td>\n",
       "      <td>-0.006256</td>\n",
       "      <td>-0.004740</td>\n",
       "    </tr>\n",
       "    <tr>\n",
       "      <th>good</th>\n",
       "      <td>0.008553</td>\n",
       "      <td>0.000152</td>\n",
       "      <td>-0.019169</td>\n",
       "      <td>-0.019331</td>\n",
       "      <td>-0.012296</td>\n",
       "      <td>-0.000257</td>\n",
       "      <td>0.003995</td>\n",
       "      <td>0.018864</td>\n",
       "      <td>0.011169</td>\n",
       "      <td>-0.008581</td>\n",
       "      <td>...</td>\n",
       "      <td>-0.014852</td>\n",
       "      <td>-0.002127</td>\n",
       "      <td>-0.001590</td>\n",
       "      <td>-0.005126</td>\n",
       "      <td>0.019365</td>\n",
       "      <td>-0.000917</td>\n",
       "      <td>0.011748</td>\n",
       "      <td>-0.014895</td>\n",
       "      <td>-0.005012</td>\n",
       "      <td>-0.011100</td>\n",
       "    </tr>\n",
       "  </tbody>\n",
       "</table>\n",
       "<p>8 rows × 50 columns</p>\n",
       "</div>"
      ],
      "text/plain": [
       "             0         1         2         3         4         5         6   \\\n",
       "day   -0.001072  0.000473  0.010207  0.018019 -0.018606 -0.014234  0.012918   \n",
       "it    -0.016316  0.008992 -0.008274  0.001649  0.016997 -0.008924  0.009035   \n",
       "a     -0.017239  0.007331  0.010380  0.011484  0.014934 -0.012335  0.002211   \n",
       "is     0.015635 -0.019020 -0.000411  0.006938 -0.001878  0.016764  0.018022   \n",
       "bad    0.000189  0.006155 -0.013625 -0.002751  0.015337  0.014693 -0.007347   \n",
       "was    0.002874 -0.005292 -0.014148 -0.015611 -0.018244 -0.011870 -0.003695   \n",
       "great -0.016485  0.018599 -0.000395 -0.003935  0.009207 -0.008191  0.005486   \n",
       "good   0.008553  0.000152 -0.019169 -0.019331 -0.012296 -0.000257  0.003995   \n",
       "\n",
       "             7         8         9   ...        40        41        42  \\\n",
       "day    0.017946 -0.010031 -0.007527  ... -0.019207  0.010015 -0.017519   \n",
       "it    -0.013574 -0.007097  0.018797  ...  0.003263  0.000380  0.006947   \n",
       "a      0.012095 -0.005680 -0.012347  ...  0.015796 -0.013979 -0.018312   \n",
       "is     0.013073 -0.001423  0.015421  ...  0.002175 -0.003152  0.004393   \n",
       "bad    0.005285 -0.016634  0.012411  ... -0.011188  0.003461 -0.001795   \n",
       "was   -0.008648 -0.012921 -0.007435  ... -0.009019  0.011403  0.018360   \n",
       "great  0.013880  0.012131 -0.015022  ...  0.006860  0.010332  0.012565   \n",
       "good   0.018864  0.011169 -0.008581  ... -0.014852 -0.002127 -0.001590   \n",
       "\n",
       "             43        44        45        46        47        48        49  \n",
       "day   -0.008784 -0.000070 -0.000592 -0.015322  0.019229  0.009964  0.018466  \n",
       "it     0.000436  0.019238  0.010121 -0.017835 -0.014083  0.001803  0.012785  \n",
       "a     -0.000712 -0.006200  0.015789  0.011877 -0.003091  0.003022  0.003580  \n",
       "is    -0.015763 -0.005434  0.005326  0.010693 -0.004783 -0.019020  0.009012  \n",
       "bad    0.013587  0.007947  0.009059  0.002869 -0.005400 -0.008734 -0.002064  \n",
       "was   -0.008200  0.015929  0.010751  0.011758  0.001025  0.016426 -0.014038  \n",
       "great -0.005609  0.014645  0.005661  0.005742 -0.004761 -0.006256 -0.004740  \n",
       "good  -0.005126  0.019365 -0.000917  0.011748 -0.014895 -0.005012 -0.011100  \n",
       "\n",
       "[8 rows x 50 columns]"
      ]
     },
     "execution_count": 7,
     "metadata": {},
     "output_type": "execute_result"
    }
   ],
   "source": [
    "df_embedding_matrix = pd.DataFrame(model.wv[vocab], index=vocab)\n",
    "df_embedding_matrix"
   ]
  },
  {
   "cell_type": "markdown",
   "id": "9e849e72",
   "metadata": {
    "papermill": {
     "duration": 0.039458,
     "end_time": "2022-01-29T06:56:41.066911",
     "exception": false,
     "start_time": "2022-01-29T06:56:41.027453",
     "status": "completed"
    },
    "tags": []
   },
   "source": [
    "## Let's custom train on larger dataset for better results"
   ]
  },
  {
   "cell_type": "code",
   "execution_count": 8,
   "id": "f3da1522",
   "metadata": {
    "execution": {
     "iopub.execute_input": "2022-01-29T06:56:41.148210Z",
     "iopub.status.busy": "2022-01-29T06:56:41.147610Z",
     "iopub.status.idle": "2022-01-29T06:56:45.588951Z",
     "shell.execute_reply": "2022-01-29T06:56:45.589534Z",
     "shell.execute_reply.started": "2022-01-15T05:45:25.229107Z"
    },
    "papermill": {
     "duration": 4.484327,
     "end_time": "2022-01-29T06:56:45.589713",
     "exception": false,
     "start_time": "2022-01-29T06:56:41.105386",
     "status": "completed"
    },
    "tags": []
   },
   "outputs": [
    {
     "data": {
      "text/html": [
       "<div>\n",
       "<style scoped>\n",
       "    .dataframe tbody tr th:only-of-type {\n",
       "        vertical-align: middle;\n",
       "    }\n",
       "\n",
       "    .dataframe tbody tr th {\n",
       "        vertical-align: top;\n",
       "    }\n",
       "\n",
       "    .dataframe thead th {\n",
       "        text-align: right;\n",
       "    }\n",
       "</style>\n",
       "<table border=\"1\" class=\"dataframe\">\n",
       "  <thead>\n",
       "    <tr style=\"text-align: right;\">\n",
       "      <th></th>\n",
       "      <th>qid</th>\n",
       "      <th>question_text</th>\n",
       "      <th>target</th>\n",
       "    </tr>\n",
       "  </thead>\n",
       "  <tbody>\n",
       "    <tr>\n",
       "      <th>0</th>\n",
       "      <td>00002165364db923c7e6</td>\n",
       "      <td>How did Quebec nationalists see their province...</td>\n",
       "      <td>0</td>\n",
       "    </tr>\n",
       "    <tr>\n",
       "      <th>1</th>\n",
       "      <td>000032939017120e6e44</td>\n",
       "      <td>Do you have an adopted dog, how would you enco...</td>\n",
       "      <td>0</td>\n",
       "    </tr>\n",
       "    <tr>\n",
       "      <th>2</th>\n",
       "      <td>0000412ca6e4628ce2cf</td>\n",
       "      <td>Why does velocity affect time? Does velocity a...</td>\n",
       "      <td>0</td>\n",
       "    </tr>\n",
       "    <tr>\n",
       "      <th>3</th>\n",
       "      <td>000042bf85aa498cd78e</td>\n",
       "      <td>How did Otto von Guericke used the Magdeburg h...</td>\n",
       "      <td>0</td>\n",
       "    </tr>\n",
       "    <tr>\n",
       "      <th>4</th>\n",
       "      <td>0000455dfa3e01eae3af</td>\n",
       "      <td>Can I convert montra helicon D to a mountain b...</td>\n",
       "      <td>0</td>\n",
       "    </tr>\n",
       "  </tbody>\n",
       "</table>\n",
       "</div>"
      ],
      "text/plain": [
       "                    qid                                      question_text  \\\n",
       "0  00002165364db923c7e6  How did Quebec nationalists see their province...   \n",
       "1  000032939017120e6e44  Do you have an adopted dog, how would you enco...   \n",
       "2  0000412ca6e4628ce2cf  Why does velocity affect time? Does velocity a...   \n",
       "3  000042bf85aa498cd78e  How did Otto von Guericke used the Magdeburg h...   \n",
       "4  0000455dfa3e01eae3af  Can I convert montra helicon D to a mountain b...   \n",
       "\n",
       "   target  \n",
       "0       0  \n",
       "1       0  \n",
       "2       0  \n",
       "3       0  \n",
       "4       0  "
      ]
     },
     "execution_count": 8,
     "metadata": {},
     "output_type": "execute_result"
    }
   ],
   "source": [
    "data = pd.read_csv('/kaggle/input/quora-insincere-questions-classification/train.csv')\n",
    "data.head()"
   ]
  },
  {
   "cell_type": "code",
   "execution_count": 9,
   "id": "c2f15861",
   "metadata": {
    "execution": {
     "iopub.execute_input": "2022-01-29T06:56:45.801593Z",
     "iopub.status.busy": "2022-01-29T06:56:45.800664Z",
     "iopub.status.idle": "2022-01-29T06:56:54.741880Z",
     "shell.execute_reply": "2022-01-29T06:56:54.741457Z",
     "shell.execute_reply.started": "2022-01-15T05:45:29.702473Z"
    },
    "papermill": {
     "duration": 9.113262,
     "end_time": "2022-01-29T06:56:54.742000",
     "exception": false,
     "start_time": "2022-01-29T06:56:45.628738",
     "status": "completed"
    },
    "tags": []
   },
   "outputs": [
    {
     "name": "stderr",
     "output_type": "stream",
     "text": [
      "/opt/conda/lib/python3.7/site-packages/ipykernel_launcher.py:1: FutureWarning: The default value of regex will change from True to False in a future version.\n",
      "  \"\"\"Entry point for launching an IPython kernel.\n"
     ]
    },
    {
     "name": "stdout",
     "output_type": "stream",
     "text": [
      "<class 'pandas.core.series.Series'>\n"
     ]
    },
    {
     "data": {
      "text/plain": [
       "0                      quebec nationalists province nation s\n",
       "1                    adopted dog encourage people adopt shop\n",
       "2          velocity affect time velocity affect space geo...\n",
       "3                    otto von guericke magdeburg hemispheres\n",
       "4          convert montra helicon d mountain bike changin...\n",
       "                                 ...                        \n",
       "1306117          technical skills need science undergrad c c\n",
       "1306118    ms ece good job prospects usa like india jobs ...\n",
       "1306119                                foam insulation toxic\n",
       "1306120    start research project based biochemistry ug l...\n",
       "1306121                           wins battle wolverine puma\n",
       "Name: question_text, Length: 1306122, dtype: object"
      ]
     },
     "execution_count": 9,
     "metadata": {},
     "output_type": "execute_result"
    }
   ],
   "source": [
    "docs = data['question_text'].str.lower().str.replace('[^a-z\\s]', '')\n",
    "from gensim.parsing.preprocessing import remove_stopwords\n",
    "docs = docs.apply(remove_stopwords)\n",
    "print(type(docs))\n",
    "docs"
   ]
  },
  {
   "cell_type": "code",
   "execution_count": 10,
   "id": "57903070",
   "metadata": {
    "execution": {
     "iopub.execute_input": "2022-01-29T06:56:54.984367Z",
     "iopub.status.busy": "2022-01-29T06:56:54.964326Z",
     "iopub.status.idle": "2022-01-29T06:56:57.391790Z",
     "shell.execute_reply": "2022-01-29T06:56:57.392442Z",
     "shell.execute_reply.started": "2022-01-15T05:45:39.039997Z"
    },
    "papermill": {
     "duration": 2.610362,
     "end_time": "2022-01-29T06:56:57.392598",
     "exception": false,
     "start_time": "2022-01-29T06:56:54.782236",
     "status": "completed"
    },
    "tags": []
   },
   "outputs": [
    {
     "data": {
      "text/plain": [
       "[['quebec', 'nationalists', 'province', 'nation', 's'],\n",
       " ['adopted', 'dog', 'encourage', 'people', 'adopt', 'shop'],\n",
       " ['velocity', 'affect', 'time', 'velocity', 'affect', 'space', 'geometry'],\n",
       " ['otto', 'von', 'guericke', 'magdeburg', 'hemispheres']]"
      ]
     },
     "execution_count": 10,
     "metadata": {},
     "output_type": "execute_result"
    }
   ],
   "source": [
    "docs_words = [doc.split(' ') for doc in docs]\n",
    "docs_words[:4]"
   ]
  },
  {
   "cell_type": "code",
   "execution_count": 11,
   "id": "28ccca4b",
   "metadata": {
    "execution": {
     "iopub.execute_input": "2022-01-29T06:56:57.475760Z",
     "iopub.status.busy": "2022-01-29T06:56:57.475010Z",
     "iopub.status.idle": "2022-01-29T06:56:57.478416Z",
     "shell.execute_reply": "2022-01-29T06:56:57.477956Z",
     "shell.execute_reply.started": "2022-01-15T05:45:41.647259Z"
    },
    "papermill": {
     "duration": 0.046498,
     "end_time": "2022-01-29T06:56:57.478527",
     "exception": false,
     "start_time": "2022-01-29T06:56:57.432029",
     "status": "completed"
    },
    "tags": []
   },
   "outputs": [
    {
     "data": {
      "text/plain": [
       "1306122"
      ]
     },
     "execution_count": 11,
     "metadata": {},
     "output_type": "execute_result"
    }
   ],
   "source": [
    "len(docs_words)"
   ]
  },
  {
   "cell_type": "code",
   "execution_count": 12,
   "id": "137be2e7",
   "metadata": {
    "execution": {
     "iopub.execute_input": "2022-01-29T06:56:57.600673Z",
     "iopub.status.busy": "2022-01-29T06:56:57.566856Z",
     "iopub.status.idle": "2022-01-29T06:58:25.526400Z",
     "shell.execute_reply": "2022-01-29T06:58:25.526837Z",
     "shell.execute_reply.started": "2022-01-15T05:45:41.656638Z"
    },
    "papermill": {
     "duration": 88.008307,
     "end_time": "2022-01-29T06:58:25.526988",
     "exception": false,
     "start_time": "2022-01-29T06:56:57.518681",
     "status": "completed"
    },
    "tags": []
   },
   "outputs": [
    {
     "data": {
      "text/html": [
       "<div>\n",
       "<style scoped>\n",
       "    .dataframe tbody tr th:only-of-type {\n",
       "        vertical-align: middle;\n",
       "    }\n",
       "\n",
       "    .dataframe tbody tr th {\n",
       "        vertical-align: top;\n",
       "    }\n",
       "\n",
       "    .dataframe thead th {\n",
       "        text-align: right;\n",
       "    }\n",
       "</style>\n",
       "<table border=\"1\" class=\"dataframe\">\n",
       "  <thead>\n",
       "    <tr style=\"text-align: right;\">\n",
       "      <th></th>\n",
       "      <th>0</th>\n",
       "      <th>1</th>\n",
       "      <th>2</th>\n",
       "      <th>3</th>\n",
       "      <th>4</th>\n",
       "      <th>5</th>\n",
       "      <th>6</th>\n",
       "      <th>7</th>\n",
       "      <th>8</th>\n",
       "      <th>9</th>\n",
       "      <th>...</th>\n",
       "      <th>40</th>\n",
       "      <th>41</th>\n",
       "      <th>42</th>\n",
       "      <th>43</th>\n",
       "      <th>44</th>\n",
       "      <th>45</th>\n",
       "      <th>46</th>\n",
       "      <th>47</th>\n",
       "      <th>48</th>\n",
       "      <th>49</th>\n",
       "    </tr>\n",
       "  </thead>\n",
       "  <tbody>\n",
       "    <tr>\n",
       "      <th>best</th>\n",
       "      <td>-0.024458</td>\n",
       "      <td>-0.614127</td>\n",
       "      <td>0.136542</td>\n",
       "      <td>0.630383</td>\n",
       "      <td>-0.530794</td>\n",
       "      <td>-0.138817</td>\n",
       "      <td>-0.020731</td>\n",
       "      <td>0.479298</td>\n",
       "      <td>-0.761687</td>\n",
       "      <td>0.098116</td>\n",
       "      <td>...</td>\n",
       "      <td>-0.137202</td>\n",
       "      <td>0.456413</td>\n",
       "      <td>0.237628</td>\n",
       "      <td>0.761543</td>\n",
       "      <td>0.040089</td>\n",
       "      <td>0.357365</td>\n",
       "      <td>-0.657584</td>\n",
       "      <td>0.129424</td>\n",
       "      <td>0.297430</td>\n",
       "      <td>1.038859</td>\n",
       "    </tr>\n",
       "    <tr>\n",
       "      <th>people</th>\n",
       "      <td>-0.379589</td>\n",
       "      <td>0.059594</td>\n",
       "      <td>0.151459</td>\n",
       "      <td>0.446341</td>\n",
       "      <td>0.050436</td>\n",
       "      <td>-0.259512</td>\n",
       "      <td>0.733728</td>\n",
       "      <td>-0.129905</td>\n",
       "      <td>-0.258897</td>\n",
       "      <td>0.202955</td>\n",
       "      <td>...</td>\n",
       "      <td>0.661435</td>\n",
       "      <td>0.139409</td>\n",
       "      <td>-0.019701</td>\n",
       "      <td>-0.201443</td>\n",
       "      <td>1.052496</td>\n",
       "      <td>0.231230</td>\n",
       "      <td>-0.155520</td>\n",
       "      <td>-0.273503</td>\n",
       "      <td>0.045403</td>\n",
       "      <td>0.473991</td>\n",
       "    </tr>\n",
       "    <tr>\n",
       "      <th>like</th>\n",
       "      <td>-0.513399</td>\n",
       "      <td>-0.150600</td>\n",
       "      <td>0.138736</td>\n",
       "      <td>0.307464</td>\n",
       "      <td>-0.203835</td>\n",
       "      <td>-0.338437</td>\n",
       "      <td>0.262581</td>\n",
       "      <td>0.394416</td>\n",
       "      <td>-0.620863</td>\n",
       "      <td>-0.624064</td>\n",
       "      <td>...</td>\n",
       "      <td>0.231725</td>\n",
       "      <td>-0.340732</td>\n",
       "      <td>-0.406934</td>\n",
       "      <td>-0.230920</td>\n",
       "      <td>-0.140607</td>\n",
       "      <td>0.245842</td>\n",
       "      <td>0.330181</td>\n",
       "      <td>0.036315</td>\n",
       "      <td>-0.052211</td>\n",
       "      <td>0.143082</td>\n",
       "    </tr>\n",
       "    <tr>\n",
       "      <th>good</th>\n",
       "      <td>-0.028163</td>\n",
       "      <td>-0.610215</td>\n",
       "      <td>0.021384</td>\n",
       "      <td>0.633227</td>\n",
       "      <td>-0.528044</td>\n",
       "      <td>-0.061410</td>\n",
       "      <td>0.350107</td>\n",
       "      <td>0.820421</td>\n",
       "      <td>-0.996118</td>\n",
       "      <td>0.046821</td>\n",
       "      <td>...</td>\n",
       "      <td>-0.056598</td>\n",
       "      <td>-0.111580</td>\n",
       "      <td>0.201278</td>\n",
       "      <td>0.179477</td>\n",
       "      <td>0.332941</td>\n",
       "      <td>0.231737</td>\n",
       "      <td>-0.320664</td>\n",
       "      <td>0.087148</td>\n",
       "      <td>0.423893</td>\n",
       "      <td>0.266821</td>\n",
       "    </tr>\n",
       "    <tr>\n",
       "      <th>india</th>\n",
       "      <td>0.246445</td>\n",
       "      <td>-0.066591</td>\n",
       "      <td>0.516778</td>\n",
       "      <td>0.019720</td>\n",
       "      <td>-0.389190</td>\n",
       "      <td>0.196303</td>\n",
       "      <td>0.256042</td>\n",
       "      <td>1.026521</td>\n",
       "      <td>-0.831873</td>\n",
       "      <td>0.027825</td>\n",
       "      <td>...</td>\n",
       "      <td>0.319600</td>\n",
       "      <td>0.767371</td>\n",
       "      <td>-0.097677</td>\n",
       "      <td>0.185203</td>\n",
       "      <td>-0.143390</td>\n",
       "      <td>0.136888</td>\n",
       "      <td>0.173331</td>\n",
       "      <td>-0.543821</td>\n",
       "      <td>-0.632083</td>\n",
       "      <td>0.194255</td>\n",
       "    </tr>\n",
       "  </tbody>\n",
       "</table>\n",
       "<p>5 rows × 50 columns</p>\n",
       "</div>"
      ],
      "text/plain": [
       "              0         1         2         3         4         5         6   \\\n",
       "best   -0.024458 -0.614127  0.136542  0.630383 -0.530794 -0.138817 -0.020731   \n",
       "people -0.379589  0.059594  0.151459  0.446341  0.050436 -0.259512  0.733728   \n",
       "like   -0.513399 -0.150600  0.138736  0.307464 -0.203835 -0.338437  0.262581   \n",
       "good   -0.028163 -0.610215  0.021384  0.633227 -0.528044 -0.061410  0.350107   \n",
       "india   0.246445 -0.066591  0.516778  0.019720 -0.389190  0.196303  0.256042   \n",
       "\n",
       "              7         8         9   ...        40        41        42  \\\n",
       "best    0.479298 -0.761687  0.098116  ... -0.137202  0.456413  0.237628   \n",
       "people -0.129905 -0.258897  0.202955  ...  0.661435  0.139409 -0.019701   \n",
       "like    0.394416 -0.620863 -0.624064  ...  0.231725 -0.340732 -0.406934   \n",
       "good    0.820421 -0.996118  0.046821  ... -0.056598 -0.111580  0.201278   \n",
       "india   1.026521 -0.831873  0.027825  ...  0.319600  0.767371 -0.097677   \n",
       "\n",
       "              43        44        45        46        47        48        49  \n",
       "best    0.761543  0.040089  0.357365 -0.657584  0.129424  0.297430  1.038859  \n",
       "people -0.201443  1.052496  0.231230 -0.155520 -0.273503  0.045403  0.473991  \n",
       "like   -0.230920 -0.140607  0.245842  0.330181  0.036315 -0.052211  0.143082  \n",
       "good    0.179477  0.332941  0.231737 -0.320664  0.087148  0.423893  0.266821  \n",
       "india   0.185203 -0.143390  0.136888  0.173331 -0.543821 -0.632083  0.194255  \n",
       "\n",
       "[5 rows x 50 columns]"
      ]
     },
     "execution_count": 12,
     "metadata": {},
     "output_type": "execute_result"
    }
   ],
   "source": [
    "embedding_dim = 50\n",
    "model = word2vec.Word2Vec(sentences=docs_words, vector_size=embedding_dim, min_count=50, window=2, sg=1)\n",
    "vocab = model.wv.index_to_key\n",
    "df_embedding_matrix = pd.DataFrame(model.wv[vocab], index=vocab)\n",
    "df_embedding_matrix.head()"
   ]
  },
  {
   "cell_type": "code",
   "execution_count": 13,
   "id": "ea156e12",
   "metadata": {
    "execution": {
     "iopub.execute_input": "2022-01-29T06:58:25.611634Z",
     "iopub.status.busy": "2022-01-29T06:58:25.611034Z",
     "iopub.status.idle": "2022-01-29T06:58:25.613543Z",
     "shell.execute_reply": "2022-01-29T06:58:25.613942Z",
     "shell.execute_reply.started": "2022-01-15T05:47:09.855264Z"
    },
    "papermill": {
     "duration": 0.046916,
     "end_time": "2022-01-29T06:58:25.614062",
     "exception": false,
     "start_time": "2022-01-29T06:58:25.567146",
     "status": "completed"
    },
    "tags": []
   },
   "outputs": [
    {
     "data": {
      "text/plain": [
       "(13632, 50)"
      ]
     },
     "execution_count": 13,
     "metadata": {},
     "output_type": "execute_result"
    }
   ],
   "source": [
    "df_embedding_matrix.shape"
   ]
  },
  {
   "cell_type": "markdown",
   "id": "402d71ec",
   "metadata": {
    "papermill": {
     "duration": 0.04005,
     "end_time": "2022-01-29T06:58:25.693911",
     "exception": false,
     "start_time": "2022-01-29T06:58:25.653861",
     "status": "completed"
    },
    "tags": []
   },
   "source": [
    "# Pre-Trained Word2Vec Models"
   ]
  },
  {
   "cell_type": "markdown",
   "id": "0695b4e0",
   "metadata": {
    "papermill": {
     "duration": 0.040392,
     "end_time": "2022-01-29T06:58:25.774188",
     "exception": false,
     "start_time": "2022-01-29T06:58:25.733796",
     "status": "completed"
    },
    "tags": []
   },
   "source": [
    "## Let's use GoogleNews pre-trained model\n",
    "1. A pre-trained model is nothing a model which has been already trained for large amount of samples and the word embeddings are readily available for use.\n",
    "2. It is similar to tansfer learning in Deep Learning\n",
    "3. Google has considered the vector size as 300"
   ]
  },
  {
   "cell_type": "code",
   "execution_count": 14,
   "id": "30c809e0",
   "metadata": {
    "execution": {
     "iopub.execute_input": "2022-01-29T06:58:25.859598Z",
     "iopub.status.busy": "2022-01-29T06:58:25.858931Z",
     "iopub.status.idle": "2022-01-29T06:58:25.861557Z",
     "shell.execute_reply": "2022-01-29T06:58:25.861958Z",
     "shell.execute_reply.started": "2022-01-15T05:47:09.862192Z"
    },
    "papermill": {
     "duration": 0.047886,
     "end_time": "2022-01-29T06:58:25.862073",
     "exception": false,
     "start_time": "2022-01-29T06:58:25.814187",
     "status": "completed"
    },
    "tags": []
   },
   "outputs": [
    {
     "data": {
      "text/plain": [
       "[<ZipInfo filename='GoogleNews-vectors-negative300/' filemode='drwxrwxr-x' external_attr=0x10>,\n",
       " <ZipInfo filename='glove.840B.300d/' filemode='drwxrwxr-x' external_attr=0x10>,\n",
       " <ZipInfo filename='paragram_300_sl999/' filemode='drwxr-xr-x' external_attr=0x10>,\n",
       " <ZipInfo filename='wiki-news-300d-1M/' filemode='drwxrwxr-x' external_attr=0x10>,\n",
       " <ZipInfo filename='glove.840B.300d/glove.840B.300d.txt' compress_type=deflate filemode='-rw-rw-r--' file_size=5646236541 compress_size=2178478737>,\n",
       " <ZipInfo filename='GoogleNews-vectors-negative300/GoogleNews-vectors-negative300.bin' compress_type=deflate filemode='-rw-rw-r--' file_size=3644258522 compress_size=1746270195>,\n",
       " <ZipInfo filename='wiki-news-300d-1M/wiki-news-300d-1M.vec' compress_type=deflate filemode='-rw-r--r--' file_size=2259088777 compress_size=682384991>,\n",
       " <ZipInfo filename='paragram_300_sl999/README.txt' compress_type=deflate filemode='-rw-r--r--' file_size=731 compress_size=441>,\n",
       " <ZipInfo filename='paragram_300_sl999/paragram_300_sl999.txt' compress_type=deflate filemode='-rw-r-----' file_size=4555969303 compress_size=1788784124>]"
      ]
     },
     "execution_count": 14,
     "metadata": {},
     "output_type": "execute_result"
    }
   ],
   "source": [
    "zf.filelist"
   ]
  },
  {
   "cell_type": "code",
   "execution_count": 15,
   "id": "18048e4b",
   "metadata": {
    "execution": {
     "iopub.execute_input": "2022-01-29T06:58:25.947433Z",
     "iopub.status.busy": "2022-01-29T06:58:25.946697Z",
     "iopub.status.idle": "2022-01-29T06:58:25.948619Z",
     "shell.execute_reply": "2022-01-29T06:58:25.948979Z",
     "shell.execute_reply.started": "2022-01-15T05:47:09.875076Z"
    },
    "papermill": {
     "duration": 0.046527,
     "end_time": "2022-01-29T06:58:25.949095",
     "exception": false,
     "start_time": "2022-01-29T06:58:25.902568",
     "status": "completed"
    },
    "tags": []
   },
   "outputs": [],
   "source": [
    "# Used to load the pre-trained model\n",
    "from gensim.models import keyedvectors"
   ]
  },
  {
   "cell_type": "code",
   "execution_count": 16,
   "id": "f057d341",
   "metadata": {
    "execution": {
     "iopub.execute_input": "2022-01-29T06:58:26.037421Z",
     "iopub.status.busy": "2022-01-29T06:58:26.036858Z",
     "iopub.status.idle": "2022-01-29T06:59:40.784615Z",
     "shell.execute_reply": "2022-01-29T06:59:40.785054Z",
     "shell.execute_reply.started": "2022-01-15T05:47:09.883753Z"
    },
    "papermill": {
     "duration": 74.794201,
     "end_time": "2022-01-29T06:59:40.785265",
     "exception": false,
     "start_time": "2022-01-29T06:58:25.991064",
     "status": "completed"
    },
    "tags": []
   },
   "outputs": [],
   "source": [
    "embedding_file = 'GoogleNews-vectors-negative300/GoogleNews-vectors-negative300.bin'\n",
    "embeddings = keyedvectors.load_word2vec_format(zf.open(embedding_file), binary=True)"
   ]
  },
  {
   "cell_type": "code",
   "execution_count": 17,
   "id": "c0d1f329",
   "metadata": {
    "execution": {
     "iopub.execute_input": "2022-01-29T06:59:40.875008Z",
     "iopub.status.busy": "2022-01-29T06:59:40.874164Z",
     "iopub.status.idle": "2022-01-29T06:59:40.877255Z",
     "shell.execute_reply": "2022-01-29T06:59:40.877917Z",
     "shell.execute_reply.started": "2022-01-15T05:48:29.733323Z"
    },
    "papermill": {
     "duration": 0.050668,
     "end_time": "2022-01-29T06:59:40.878096",
     "exception": false,
     "start_time": "2022-01-29T06:59:40.827428",
     "status": "completed"
    },
    "tags": []
   },
   "outputs": [
    {
     "name": "stdout",
     "output_type": "stream",
     "text": [
      "Total no. of words or Vocabulary size =  3000000\n",
      "Vector size: 300\n"
     ]
    }
   ],
   "source": [
    "print(\"Total no. of words or Vocabulary size = \",len(embeddings))\n",
    "print(\"Vector size:\", len(embeddings['market']))"
   ]
  },
  {
   "cell_type": "code",
   "execution_count": 18,
   "id": "17f7c3e7",
   "metadata": {
    "execution": {
     "iopub.execute_input": "2022-01-29T06:59:40.968423Z",
     "iopub.status.busy": "2022-01-29T06:59:40.967281Z",
     "iopub.status.idle": "2022-01-29T06:59:42.826192Z",
     "shell.execute_reply": "2022-01-29T06:59:42.826908Z",
     "shell.execute_reply.started": "2022-01-15T05:48:29.78938Z"
    },
    "papermill": {
     "duration": 1.906129,
     "end_time": "2022-01-29T06:59:42.827150",
     "exception": false,
     "start_time": "2022-01-29T06:59:40.921021",
     "status": "completed"
    },
    "tags": []
   },
   "outputs": [
    {
     "data": {
      "text/plain": [
       "[('great', 0.7291510105133057),\n",
       " ('bad', 0.7190051078796387),\n",
       " ('terrific', 0.6889115571975708),\n",
       " ('decent', 0.6837348341941833),\n",
       " ('nice', 0.6836092472076416)]"
      ]
     },
     "execution_count": 18,
     "metadata": {},
     "output_type": "execute_result"
    }
   ],
   "source": [
    "embeddings.most_similar('good', topn=5)"
   ]
  },
  {
   "cell_type": "code",
   "execution_count": 19,
   "id": "53c0085a",
   "metadata": {
    "execution": {
     "iopub.execute_input": "2022-01-29T06:59:42.953336Z",
     "iopub.status.busy": "2022-01-29T06:59:42.952282Z",
     "iopub.status.idle": "2022-01-29T06:59:43.309390Z",
     "shell.execute_reply": "2022-01-29T06:59:43.310678Z",
     "shell.execute_reply.started": "2022-01-15T05:48:31.658722Z"
    },
    "papermill": {
     "duration": 0.412565,
     "end_time": "2022-01-29T06:59:43.310937",
     "exception": false,
     "start_time": "2022-01-29T06:59:42.898372",
     "status": "completed"
    },
    "tags": []
   },
   "outputs": [
    {
     "data": {
      "text/plain": [
       "[('homemaker', 0.5627118945121765),\n",
       " ('housewife', 0.5105047225952148),\n",
       " ('graphic_designer', 0.505180299282074),\n",
       " ('schoolteacher', 0.497949481010437),\n",
       " ('businesswoman', 0.493489146232605)]"
      ]
     },
     "execution_count": 19,
     "metadata": {},
     "output_type": "execute_result"
    }
   ],
   "source": [
    "#  omputer_programmer + (woman-man)\n",
    "embeddings.most_similar(positive=['computer_programmer', 'woman'], negative=['man'], topn=5)"
   ]
  },
  {
   "cell_type": "markdown",
   "id": "fb3f2127",
   "metadata": {
    "papermill": {
     "duration": 0.043642,
     "end_time": "2022-01-29T06:59:43.424932",
     "exception": false,
     "start_time": "2022-01-29T06:59:43.381290",
     "status": "completed"
    },
    "tags": []
   },
   "source": [
    "## Text classification using pre-trained word embeddings"
   ]
  },
  {
   "cell_type": "code",
   "execution_count": 20,
   "id": "a9a265e3",
   "metadata": {
    "execution": {
     "iopub.execute_input": "2022-01-29T06:59:43.514184Z",
     "iopub.status.busy": "2022-01-29T06:59:43.513459Z",
     "iopub.status.idle": "2022-01-29T06:59:45.964525Z",
     "shell.execute_reply": "2022-01-29T06:59:45.964045Z",
     "shell.execute_reply.started": "2022-01-15T05:48:32.025111Z"
    },
    "papermill": {
     "duration": 2.497101,
     "end_time": "2022-01-29T06:59:45.964651",
     "exception": false,
     "start_time": "2022-01-29T06:59:43.467550",
     "status": "completed"
    },
    "tags": []
   },
   "outputs": [
    {
     "data": {
      "text/html": [
       "<div>\n",
       "<style scoped>\n",
       "    .dataframe tbody tr th:only-of-type {\n",
       "        vertical-align: middle;\n",
       "    }\n",
       "\n",
       "    .dataframe tbody tr th {\n",
       "        vertical-align: top;\n",
       "    }\n",
       "\n",
       "    .dataframe thead th {\n",
       "        text-align: right;\n",
       "    }\n",
       "</style>\n",
       "<table border=\"1\" class=\"dataframe\">\n",
       "  <thead>\n",
       "    <tr style=\"text-align: right;\">\n",
       "      <th></th>\n",
       "      <th>qid</th>\n",
       "      <th>question_text</th>\n",
       "      <th>target</th>\n",
       "    </tr>\n",
       "  </thead>\n",
       "  <tbody>\n",
       "    <tr>\n",
       "      <th>1301018</th>\n",
       "      <td>feffaaa8a317d3d0b541</td>\n",
       "      <td>How should I learn Javascript from basics?</td>\n",
       "      <td>0</td>\n",
       "    </tr>\n",
       "    <tr>\n",
       "      <th>1037424</th>\n",
       "      <td>cb484ad9f9daf77a8f5c</td>\n",
       "      <td>Was I rude?</td>\n",
       "      <td>1</td>\n",
       "    </tr>\n",
       "    <tr>\n",
       "      <th>119857</th>\n",
       "      <td>17777e6e2123aaa1357b</td>\n",
       "      <td>Do you use Blockchain?</td>\n",
       "      <td>0</td>\n",
       "    </tr>\n",
       "  </tbody>\n",
       "</table>\n",
       "</div>"
      ],
      "text/plain": [
       "                          qid                               question_text  \\\n",
       "1301018  feffaaa8a317d3d0b541  How should I learn Javascript from basics?   \n",
       "1037424  cb484ad9f9daf77a8f5c                                 Was I rude?   \n",
       "119857   17777e6e2123aaa1357b                      Do you use Blockchain?   \n",
       "\n",
       "         target  \n",
       "1301018       0  \n",
       "1037424       1  \n",
       "119857        0  "
      ]
     },
     "execution_count": 20,
     "metadata": {},
     "output_type": "execute_result"
    }
   ],
   "source": [
    "data = pd.read_csv('/kaggle/input/quora-insincere-questions-classification/train.csv').sample(10000)\n",
    "data.head(3)"
   ]
  },
  {
   "cell_type": "code",
   "execution_count": 21,
   "id": "8a6b64e1",
   "metadata": {
    "execution": {
     "iopub.execute_input": "2022-01-29T06:59:46.081639Z",
     "iopub.status.busy": "2022-01-29T06:59:46.071663Z",
     "iopub.status.idle": "2022-01-29T06:59:46.135273Z",
     "shell.execute_reply": "2022-01-29T06:59:46.134656Z",
     "shell.execute_reply.started": "2022-01-15T05:48:34.555379Z"
    },
    "papermill": {
     "duration": 0.127221,
     "end_time": "2022-01-29T06:59:46.135430",
     "exception": false,
     "start_time": "2022-01-29T06:59:46.008209",
     "status": "completed"
    },
    "tags": []
   },
   "outputs": [
    {
     "name": "stderr",
     "output_type": "stream",
     "text": [
      "/opt/conda/lib/python3.7/site-packages/ipykernel_launcher.py:1: FutureWarning: The default value of regex will change from True to False in a future version.\n",
      "  \"\"\"Entry point for launching an IPython kernel.\n"
     ]
    },
    {
     "data": {
      "text/plain": [
       "1301018                          learn javascript basics\n",
       "1037424                                             rude\n",
       "119857                                    use blockchain\n",
       "619887     debt collection agency handle angry customers\n",
       "448512                negative impact civilization islam\n",
       "                               ...                      \n",
       "605887                            email outreach program\n",
       "795281       black people like everybody everybody hates\n",
       "695965     paranoid personality disorder usually treated\n",
       "574634                                      mean instead\n",
       "723938                                       adt explain\n",
       "Name: question_text, Length: 10000, dtype: object"
      ]
     },
     "execution_count": 21,
     "metadata": {},
     "output_type": "execute_result"
    }
   ],
   "source": [
    "docs = data['question_text'].str.lower().str.replace('[^a-z\\s]', '')\n",
    "docs = docs.apply(remove_stopwords)\n",
    "docs"
   ]
  },
  {
   "cell_type": "code",
   "execution_count": 22,
   "id": "5b0cfed6",
   "metadata": {
    "execution": {
     "iopub.execute_input": "2022-01-29T06:59:46.226504Z",
     "iopub.status.busy": "2022-01-29T06:59:46.225015Z",
     "iopub.status.idle": "2022-01-29T06:59:46.478974Z",
     "shell.execute_reply": "2022-01-29T06:59:46.478513Z",
     "shell.execute_reply.started": "2022-01-15T05:48:34.635597Z"
    },
    "papermill": {
     "duration": 0.300266,
     "end_time": "2022-01-29T06:59:46.479100",
     "exception": false,
     "start_time": "2022-01-29T06:59:46.178834",
     "status": "completed"
    },
    "tags": []
   },
   "outputs": [],
   "source": [
    "from sklearn.model_selection import train_test_split\n",
    "trainx, testx, trainy, testy = train_test_split(docs, data['target'], test_size=0.2, random_state=10)"
   ]
  },
  {
   "cell_type": "markdown",
   "id": "22a69a73",
   "metadata": {
    "papermill": {
     "duration": 0.043404,
     "end_time": "2022-01-29T06:59:46.566445",
     "exception": false,
     "start_time": "2022-01-29T06:59:46.523041",
     "status": "completed"
    },
    "tags": []
   },
   "source": [
    "* We have to convert tokens into id's\n",
    "* When converting, there can be a large sentence/document in the corpus say dataset can be something like this<br>\n",
    "<b>[[This movie is really good, the plot is perfect],</b><br>\n",
    " <b>[This movie is superb]]</b>\n",
    "* So the remaining length of the document should be padded with 0's. **(I have used post padding)**\n",
    "* There is an other way as well, you can consider the max words in a document to say 50 and kick out the other words.\n",
    "* All these scenarios can be checked for better model performance"
   ]
  },
  {
   "cell_type": "code",
   "execution_count": 23,
   "id": "f75b3607",
   "metadata": {
    "execution": {
     "iopub.execute_input": "2022-01-29T06:59:46.671048Z",
     "iopub.status.busy": "2022-01-29T06:59:46.670423Z",
     "iopub.status.idle": "2022-01-29T06:59:51.349248Z",
     "shell.execute_reply": "2022-01-29T06:59:51.348686Z",
     "shell.execute_reply.started": "2022-01-15T05:48:34.829979Z"
    },
    "papermill": {
     "duration": 4.73304,
     "end_time": "2022-01-29T06:59:51.349378",
     "exception": false,
     "start_time": "2022-01-29T06:59:46.616338",
     "status": "completed"
    },
    "tags": []
   },
   "outputs": [],
   "source": [
    "from keras.preprocessing.text import Tokenizer\n",
    "from keras.preprocessing.sequence import pad_sequences"
   ]
  },
  {
   "cell_type": "code",
   "execution_count": 24,
   "id": "fb5436a4",
   "metadata": {
    "execution": {
     "iopub.execute_input": "2022-01-29T06:59:51.461966Z",
     "iopub.status.busy": "2022-01-29T06:59:51.461097Z",
     "iopub.status.idle": "2022-01-29T06:59:51.578823Z",
     "shell.execute_reply": "2022-01-29T06:59:51.579330Z",
     "shell.execute_reply.started": "2022-01-15T05:48:38.660313Z"
    },
    "papermill": {
     "duration": 0.180059,
     "end_time": "2022-01-29T06:59:51.579529",
     "exception": false,
     "start_time": "2022-01-29T06:59:51.399470",
     "status": "completed"
    },
    "tags": []
   },
   "outputs": [
    {
     "name": "stdout",
     "output_type": "stream",
     "text": [
      "Total no. of unique tokens in document:  12991\n"
     ]
    }
   ],
   "source": [
    "tokenizer = Tokenizer()\n",
    "# Here we are getting to know/ telling the tokenizer how many words are in vocabulary\n",
    "tokenizer.fit_on_texts(trainx)\n",
    "vocab = tokenizer.word_index\n",
    "print(\"Total no. of unique tokens in document: \", len(vocab))"
   ]
  },
  {
   "cell_type": "code",
   "execution_count": 25,
   "id": "74bf37f1",
   "metadata": {
    "execution": {
     "iopub.execute_input": "2022-01-29T06:59:51.692903Z",
     "iopub.status.busy": "2022-01-29T06:59:51.687919Z",
     "iopub.status.idle": "2022-01-29T06:59:51.775600Z",
     "shell.execute_reply": "2022-01-29T06:59:51.775195Z",
     "shell.execute_reply.started": "2022-01-15T05:48:38.776163Z"
    },
    "papermill": {
     "duration": 0.14806,
     "end_time": "2022-01-29T06:59:51.775710",
     "exception": false,
     "start_time": "2022-01-29T06:59:51.627650",
     "status": "completed"
    },
    "tags": []
   },
   "outputs": [
    {
     "data": {
      "text/plain": [
       "[31, 3530, 3531, 3532, 3533]"
      ]
     },
     "execution_count": 25,
     "metadata": {},
     "output_type": "execute_result"
    }
   ],
   "source": [
    "# Here we convert the tokens in documents into id's\n",
    "trainx_seq = tokenizer.texts_to_sequences(trainx)\n",
    "testx_seq = tokenizer.texts_to_sequences(testx)\n",
    "trainx_seq[1]"
   ]
  },
  {
   "cell_type": "code",
   "execution_count": 26,
   "id": "124f64f0",
   "metadata": {
    "execution": {
     "iopub.execute_input": "2022-01-29T06:59:51.876031Z",
     "iopub.status.busy": "2022-01-29T06:59:51.875426Z",
     "iopub.status.idle": "2022-01-29T06:59:52.065918Z",
     "shell.execute_reply": "2022-01-29T06:59:52.066764Z",
     "shell.execute_reply.started": "2022-01-15T05:48:38.882639Z"
    },
    "papermill": {
     "duration": 0.248081,
     "end_time": "2022-01-29T06:59:52.066983",
     "exception": false,
     "start_time": "2022-01-29T06:59:51.818902",
     "status": "completed"
    },
    "tags": []
   },
   "outputs": [
    {
     "data": {
      "image/png": "[encoded data removed]",
      "text/plain": [
       "<Figure size 432x288 with 1 Axes>"
      ]
     },
     "metadata": {
      "needs_background": "light"
     },
     "output_type": "display_data"
    }
   ],
   "source": [
    "doc_sizes = []\n",
    "for doc in trainx_seq:\n",
    "    size = len(doc)\n",
    "    doc_sizes.append(size)\n",
    "    \n",
    "pd.Series(doc_sizes).plot.box();"
   ]
  },
  {
   "cell_type": "markdown",
   "id": "222cf71d",
   "metadata": {
    "papermill": {
     "duration": 0.04319,
     "end_time": "2022-01-29T06:59:52.158618",
     "exception": false,
     "start_time": "2022-01-29T06:59:52.115428",
     "status": "completed"
    },
    "tags": []
   },
   "source": [
    "### From the above box plot we can consider the max document length is 11"
   ]
  },
  {
   "cell_type": "code",
   "execution_count": 27,
   "id": "0e6068bc",
   "metadata": {
    "execution": {
     "iopub.execute_input": "2022-01-29T06:59:52.262309Z",
     "iopub.status.busy": "2022-01-29T06:59:52.260425Z",
     "iopub.status.idle": "2022-01-29T06:59:52.317892Z",
     "shell.execute_reply": "2022-01-29T06:59:52.317482Z",
     "shell.execute_reply.started": "2022-01-15T05:48:39.087811Z"
    },
    "papermill": {
     "duration": 0.11597,
     "end_time": "2022-01-29T06:59:52.317999",
     "exception": false,
     "start_time": "2022-01-29T06:59:52.202029",
     "status": "completed"
    },
    "tags": []
   },
   "outputs": [],
   "source": [
    "max_doc_length = 11\n",
    "trainx_pad = pad_sequences(trainx_seq, maxlen=max_doc_length, padding='post')\n",
    "testx_pad = pad_sequences(testx_seq, maxlen=max_doc_length, padding='post')"
   ]
  },
  {
   "cell_type": "code",
   "execution_count": 28,
   "id": "2be0a2e1",
   "metadata": {
    "execution": {
     "iopub.execute_input": "2022-01-29T06:59:52.411510Z",
     "iopub.status.busy": "2022-01-29T06:59:52.410900Z",
     "iopub.status.idle": "2022-01-29T06:59:52.413422Z",
     "shell.execute_reply": "2022-01-29T06:59:52.413862Z",
     "shell.execute_reply.started": "2022-01-15T05:48:39.169714Z"
    },
    "papermill": {
     "duration": 0.052287,
     "end_time": "2022-01-29T06:59:52.413982",
     "exception": false,
     "start_time": "2022-01-29T06:59:52.361695",
     "status": "completed"
    },
    "tags": []
   },
   "outputs": [
    {
     "data": {
      "text/plain": [
       "array([[ 326, 5422,    0,    0,    0,    0,    0,    0,    0,    0,    0],\n",
       "       [  31, 3530, 3531, 3532, 3533,    0,    0,    0,    0,    0,    0],\n",
       "       [ 379, 5423, 2032,  595,  119, 5424,    0,    0,    0,    0,    0],\n",
       "       [ 327,   16,  832,   16,    0,    0,    0,    0,    0,    0,    0],\n",
       "       [  29, 1061,  246,    0,    0,    0,    0,    0,    0,    0,    0]],\n",
       "      dtype=int32)"
      ]
     },
     "execution_count": 28,
     "metadata": {},
     "output_type": "execute_result"
    }
   ],
   "source": [
    "trainx_pad[:5]"
   ]
  },
  {
   "cell_type": "code",
   "execution_count": 29,
   "id": "3dc9232c",
   "metadata": {
    "execution": {
     "iopub.execute_input": "2022-01-29T06:59:52.507567Z",
     "iopub.status.busy": "2022-01-29T06:59:52.506951Z",
     "iopub.status.idle": "2022-01-29T06:59:52.509481Z",
     "shell.execute_reply": "2022-01-29T06:59:52.509882Z",
     "shell.execute_reply.started": "2022-01-15T05:48:39.179901Z"
    },
    "papermill": {
     "duration": 0.052504,
     "end_time": "2022-01-29T06:59:52.509995",
     "exception": false,
     "start_time": "2022-01-29T06:59:52.457491",
     "status": "completed"
    },
    "tags": []
   },
   "outputs": [
    {
     "data": {
      "text/plain": [
       "861827                         choose topologies\n",
       "581572         difference dank spicy fresh memes\n",
       "614340    wear sash hood masters degree ceremony\n",
       "269963                   poor person rich person\n",
       "57790                        start preparing cat\n",
       "                           ...                  \n",
       "225073          prepare chocolate cakes frosting\n",
       "167681                funding technology startup\n",
       "425537                investors want pitch video\n",
       "352757    novel original sujan stevens illinoise\n",
       "261883      required start microfinance business\n",
       "Name: question_text, Length: 8000, dtype: object"
      ]
     },
     "execution_count": 29,
     "metadata": {},
     "output_type": "execute_result"
    }
   ],
   "source": [
    "trainx"
   ]
  },
  {
   "cell_type": "code",
   "execution_count": 30,
   "id": "4a01d402",
   "metadata": {
    "execution": {
     "iopub.execute_input": "2022-01-29T06:59:52.602488Z",
     "iopub.status.busy": "2022-01-29T06:59:52.601867Z",
     "iopub.status.idle": "2022-01-29T06:59:52.604388Z",
     "shell.execute_reply": "2022-01-29T06:59:52.604787Z",
     "shell.execute_reply.started": "2022-01-15T05:48:39.191179Z"
    },
    "papermill": {
     "duration": 0.050947,
     "end_time": "2022-01-29T06:59:52.604902",
     "exception": false,
     "start_time": "2022-01-29T06:59:52.553955",
     "status": "completed"
    },
    "tags": []
   },
   "outputs": [
    {
     "data": {
      "text/plain": [
       "472"
      ]
     },
     "execution_count": 30,
     "metadata": {},
     "output_type": "execute_result"
    }
   ],
   "source": [
    "tokenizer.word_index['network']"
   ]
  },
  {
   "cell_type": "markdown",
   "id": "bb1e982f",
   "metadata": {
    "papermill": {
     "duration": 0.044212,
     "end_time": "2022-01-29T06:59:52.693298",
     "exception": false,
     "start_time": "2022-01-29T06:59:52.649086",
     "status": "completed"
    },
    "tags": []
   },
   "source": [
    "### Now let's create word embedding matrix and also see the words that are not available in embeddings"
   ]
  },
  {
   "cell_type": "code",
   "execution_count": 31,
   "id": "4fc1c88b",
   "metadata": {
    "execution": {
     "iopub.execute_input": "2022-01-29T06:59:52.788652Z",
     "iopub.status.busy": "2022-01-29T06:59:52.787828Z",
     "iopub.status.idle": "2022-01-29T06:59:52.854265Z",
     "shell.execute_reply": "2022-01-29T06:59:52.853806Z",
     "shell.execute_reply.started": "2022-01-15T05:48:39.200721Z"
    },
    "papermill": {
     "duration": 0.11704,
     "end_time": "2022-01-29T06:59:52.854387",
     "exception": false,
     "start_time": "2022-01-29T06:59:52.737347",
     "status": "completed"
    },
    "tags": []
   },
   "outputs": [],
   "source": [
    "gnews_embedding_dim = 300\n",
    "# In keras tokenizer id's start from 1, there is no 0.\n",
    "vocab_len = len(vocab)+1\n",
    "words_not_available = []\n",
    "word_embedding_matrix = np.zeros((vocab_len, gnews_embedding_dim))\n",
    "for word, wid in tokenizer.word_index.items():\n",
    "    if word in embeddings:\n",
    "        word_embedding_matrix[wid] = embeddings[word]\n",
    "    else:\n",
    "        words_not_available.append(word)"
   ]
  },
  {
   "cell_type": "code",
   "execution_count": 32,
   "id": "8b547341",
   "metadata": {
    "execution": {
     "iopub.execute_input": "2022-01-29T06:59:52.948632Z",
     "iopub.status.busy": "2022-01-29T06:59:52.948055Z",
     "iopub.status.idle": "2022-01-29T06:59:52.950889Z",
     "shell.execute_reply": "2022-01-29T06:59:52.951532Z",
     "shell.execute_reply.started": "2022-01-15T05:48:39.279501Z"
    },
    "papermill": {
     "duration": 0.052715,
     "end_time": "2022-01-29T06:59:52.951697",
     "exception": false,
     "start_time": "2022-01-29T06:59:52.898982",
     "status": "completed"
    },
    "tags": []
   },
   "outputs": [
    {
     "name": "stdout",
     "output_type": "stream",
     "text": [
      "Percentage of unavailable word embeddings:  15.972596412901238\n"
     ]
    }
   ],
   "source": [
    "print(\"Percentage of unavailable word embeddings: \",len(words_not_available)/len(vocab)*100)"
   ]
  },
  {
   "cell_type": "markdown",
   "id": "a69c33b2",
   "metadata": {
    "papermill": {
     "duration": 0.046504,
     "end_time": "2022-01-29T06:59:53.045632",
     "exception": false,
     "start_time": "2022-01-29T06:59:52.999128",
     "status": "completed"
    },
    "tags": []
   },
   "source": [
    "## How to handle these unavailable words?\n",
    "First implement other pre-trained models like fasttext or glove and check which gives you better accuracy, f1_score etc.,<br>\n",
    "If there is not much improvement then below methods can be used:<br>\n",
    "1. Identify synonyms of the unavailable words and check if they have word embeddings.\n",
    "2. Perform lemmatization so that you get the root form of the word and check if they have word embeddings.\n",
    "3. There will be some words like shouldnt, couldnt (as quotes were not considered), these we can make then as should not, could not and see if they have word embeddings."
   ]
  },
  {
   "cell_type": "code",
   "execution_count": 33,
   "id": "b7aaa994",
   "metadata": {
    "execution": {
     "iopub.execute_input": "2022-01-29T06:59:53.139081Z",
     "iopub.status.busy": "2022-01-29T06:59:53.138337Z",
     "iopub.status.idle": "2022-01-29T06:59:53.140374Z",
     "shell.execute_reply": "2022-01-29T06:59:53.140772Z",
     "shell.execute_reply.started": "2022-01-15T05:48:39.287783Z"
    },
    "papermill": {
     "duration": 0.05024,
     "end_time": "2022-01-29T06:59:53.140889",
     "exception": false,
     "start_time": "2022-01-29T06:59:53.090649",
     "status": "completed"
    },
    "tags": []
   },
   "outputs": [],
   "source": [
    "from keras.models import Sequential\n",
    "from keras import layers"
   ]
  },
  {
   "cell_type": "code",
   "execution_count": 34,
   "id": "83757061",
   "metadata": {
    "execution": {
     "iopub.execute_input": "2022-01-29T06:59:53.234336Z",
     "iopub.status.busy": "2022-01-29T06:59:53.233738Z",
     "iopub.status.idle": "2022-01-29T06:59:55.775454Z",
     "shell.execute_reply": "2022-01-29T06:59:55.775958Z",
     "shell.execute_reply.started": "2022-01-15T05:48:39.296849Z"
    },
    "papermill": {
     "duration": 2.590798,
     "end_time": "2022-01-29T06:59:55.776135",
     "exception": false,
     "start_time": "2022-01-29T06:59:53.185337",
     "status": "completed"
    },
    "tags": []
   },
   "outputs": [
    {
     "name": "stderr",
     "output_type": "stream",
     "text": [
      "2022-01-29 06:59:53.306390: I tensorflow/stream_executor/cuda/cuda_gpu_executor.cc:937] successful NUMA node read from SysFS had negative value (-1), but there must be at least one NUMA node, so returning NUMA node zero\n",
      "2022-01-29 06:59:53.424667: I tensorflow/stream_executor/cuda/cuda_gpu_executor.cc:937] successful NUMA node read from SysFS had negative value (-1), but there must be at least one NUMA node, so returning NUMA node zero\n",
      "2022-01-29 06:59:53.425512: I tensorflow/stream_executor/cuda/cuda_gpu_executor.cc:937] successful NUMA node read from SysFS had negative value (-1), but there must be at least one NUMA node, so returning NUMA node zero\n",
      "2022-01-29 06:59:53.426810: I tensorflow/core/platform/cpu_feature_guard.cc:142] This TensorFlow binary is optimized with oneAPI Deep Neural Network Library (oneDNN) to use the following CPU instructions in performance-critical operations:  AVX2 AVX512F FMA\n",
      "To enable them in other operations, rebuild TensorFlow with the appropriate compiler flags.\n",
      "2022-01-29 06:59:53.427507: I tensorflow/stream_executor/cuda/cuda_gpu_executor.cc:937] successful NUMA node read from SysFS had negative value (-1), but there must be at least one NUMA node, so returning NUMA node zero\n",
      "2022-01-29 06:59:53.428180: I tensorflow/stream_executor/cuda/cuda_gpu_executor.cc:937] successful NUMA node read from SysFS had negative value (-1), but there must be at least one NUMA node, so returning NUMA node zero\n",
      "2022-01-29 06:59:53.428799: I tensorflow/stream_executor/cuda/cuda_gpu_executor.cc:937] successful NUMA node read from SysFS had negative value (-1), but there must be at least one NUMA node, so returning NUMA node zero\n",
      "2022-01-29 06:59:55.352516: I tensorflow/stream_executor/cuda/cuda_gpu_executor.cc:937] successful NUMA node read from SysFS had negative value (-1), but there must be at least one NUMA node, so returning NUMA node zero\n",
      "2022-01-29 06:59:55.353328: I tensorflow/stream_executor/cuda/cuda_gpu_executor.cc:937] successful NUMA node read from SysFS had negative value (-1), but there must be at least one NUMA node, so returning NUMA node zero\n",
      "2022-01-29 06:59:55.353951: I tensorflow/stream_executor/cuda/cuda_gpu_executor.cc:937] successful NUMA node read from SysFS had negative value (-1), but there must be at least one NUMA node, so returning NUMA node zero\n",
      "2022-01-29 06:59:55.354550: I tensorflow/core/common_runtime/gpu/gpu_device.cc:1510] Created device /job:localhost/replica:0/task:0/device:GPU:0 with 15403 MB memory:  -> device: 0, name: Tesla P100-PCIE-16GB, pci bus id: 0000:00:04.0, compute capability: 6.0\n"
     ]
    }
   ],
   "source": [
    "model = Sequential()\n",
    "model.add(layers.Embedding(vocab_len, gnews_embedding_dim,\n",
    "                          weights=[word_embedding_matrix],\n",
    "                          input_length=max_doc_length,\n",
    "                          trainable=False))\n",
    "model.add(layers.Dense(10, activation='relu'))\n",
    "model.add(layers.Dense(1, activation='sigmoid'))"
   ]
  },
  {
   "cell_type": "code",
   "execution_count": 35,
   "id": "8bd3b16a",
   "metadata": {
    "execution": {
     "iopub.execute_input": "2022-01-29T06:59:55.877355Z",
     "iopub.status.busy": "2022-01-29T06:59:55.876500Z",
     "iopub.status.idle": "2022-01-29T06:59:55.881978Z",
     "shell.execute_reply": "2022-01-29T06:59:55.882392Z",
     "shell.execute_reply.started": "2022-01-15T05:48:41.664889Z"
    },
    "papermill": {
     "duration": 0.058611,
     "end_time": "2022-01-29T06:59:55.882530",
     "exception": false,
     "start_time": "2022-01-29T06:59:55.823919",
     "status": "completed"
    },
    "tags": []
   },
   "outputs": [
    {
     "name": "stdout",
     "output_type": "stream",
     "text": [
      "Model: \"sequential\"\n",
      "_________________________________________________________________\n",
      "Layer (type)                 Output Shape              Param #   \n",
      "=================================================================\n",
      "embedding (Embedding)        (None, 11, 300)           3897600   \n",
      "_________________________________________________________________\n",
      "dense (Dense)                (None, 11, 10)            3010      \n",
      "_________________________________________________________________\n",
      "dense_1 (Dense)              (None, 11, 1)             11        \n",
      "=================================================================\n",
      "Total params: 3,900,621\n",
      "Trainable params: 3,021\n",
      "Non-trainable params: 3,897,600\n",
      "_________________________________________________________________\n"
     ]
    }
   ],
   "source": [
    "model.summary()"
   ]
  },
  {
   "cell_type": "markdown",
   "id": "a2fe68b1",
   "metadata": {
    "papermill": {
     "duration": 0.046607,
     "end_time": "2022-01-29T06:59:55.976494",
     "exception": false,
     "start_time": "2022-01-29T06:59:55.929887",
     "status": "completed"
    },
    "tags": []
   },
   "source": [
    "### Adding Flatten() Layer"
   ]
  },
  {
   "cell_type": "code",
   "execution_count": 36,
   "id": "75b0dfd0",
   "metadata": {
    "execution": {
     "iopub.execute_input": "2022-01-29T06:59:56.082529Z",
     "iopub.status.busy": "2022-01-29T06:59:56.081691Z",
     "iopub.status.idle": "2022-01-29T06:59:56.115605Z",
     "shell.execute_reply": "2022-01-29T06:59:56.116298Z",
     "shell.execute_reply.started": "2022-01-15T05:48:41.674047Z"
    },
    "papermill": {
     "duration": 0.091674,
     "end_time": "2022-01-29T06:59:56.116436",
     "exception": false,
     "start_time": "2022-01-29T06:59:56.024762",
     "status": "completed"
    },
    "tags": []
   },
   "outputs": [],
   "source": [
    "model = Sequential()\n",
    "model.add(layers.Embedding(vocab_len, gnews_embedding_dim,\n",
    "                          weights=[word_embedding_matrix],\n",
    "                          input_length=max_doc_length,\n",
    "                          trainable=False))\n",
    "model.add(layers.Flatten())\n",
    "model.add(layers.Dense(10, activation='relu'))\n",
    "model.add(layers.Dense(1, activation='sigmoid'))"
   ]
  },
  {
   "cell_type": "code",
   "execution_count": 37,
   "id": "e52001ee",
   "metadata": {
    "execution": {
     "iopub.execute_input": "2022-01-29T06:59:56.216054Z",
     "iopub.status.busy": "2022-01-29T06:59:56.214694Z",
     "iopub.status.idle": "2022-01-29T06:59:56.220047Z",
     "shell.execute_reply": "2022-01-29T06:59:56.219287Z",
     "shell.execute_reply.started": "2022-01-15T05:48:41.715829Z"
    },
    "papermill": {
     "duration": 0.057749,
     "end_time": "2022-01-29T06:59:56.220209",
     "exception": false,
     "start_time": "2022-01-29T06:59:56.162460",
     "status": "completed"
    },
    "tags": []
   },
   "outputs": [
    {
     "name": "stdout",
     "output_type": "stream",
     "text": [
      "Model: \"sequential_1\"\n",
      "_________________________________________________________________\n",
      "Layer (type)                 Output Shape              Param #   \n",
      "=================================================================\n",
      "embedding_1 (Embedding)      (None, 11, 300)           3897600   \n",
      "_________________________________________________________________\n",
      "flatten (Flatten)            (None, 3300)              0         \n",
      "_________________________________________________________________\n",
      "dense_2 (Dense)              (None, 10)                33010     \n",
      "_________________________________________________________________\n",
      "dense_3 (Dense)              (None, 1)                 11        \n",
      "=================================================================\n",
      "Total params: 3,930,621\n",
      "Trainable params: 33,021\n",
      "Non-trainable params: 3,897,600\n",
      "_________________________________________________________________\n"
     ]
    }
   ],
   "source": [
    "model.summary()"
   ]
  },
  {
   "cell_type": "code",
   "execution_count": 38,
   "id": "3e03a0cd",
   "metadata": {
    "execution": {
     "iopub.execute_input": "2022-01-29T06:59:56.322939Z",
     "iopub.status.busy": "2022-01-29T06:59:56.319127Z",
     "iopub.status.idle": "2022-01-29T06:59:56.328395Z",
     "shell.execute_reply": "2022-01-29T06:59:56.328812Z",
     "shell.execute_reply.started": "2022-01-15T05:48:41.727231Z"
    },
    "papermill": {
     "duration": 0.060973,
     "end_time": "2022-01-29T06:59:56.328951",
     "exception": false,
     "start_time": "2022-01-29T06:59:56.267978",
     "status": "completed"
    },
    "tags": []
   },
   "outputs": [],
   "source": [
    "model.compile(optimizer='adam', loss='binary_crossentropy', metrics='accuracy')"
   ]
  },
  {
   "cell_type": "code",
   "execution_count": 39,
   "id": "15194713",
   "metadata": {
    "execution": {
     "iopub.execute_input": "2022-01-29T06:59:56.427167Z",
     "iopub.status.busy": "2022-01-29T06:59:56.425099Z",
     "iopub.status.idle": "2022-01-29T07:00:04.037657Z",
     "shell.execute_reply": "2022-01-29T07:00:04.038023Z",
     "shell.execute_reply.started": "2022-01-15T05:48:41.742029Z"
    },
    "papermill": {
     "duration": 7.662959,
     "end_time": "2022-01-29T07:00:04.038196",
     "exception": false,
     "start_time": "2022-01-29T06:59:56.375237",
     "status": "completed"
    },
    "tags": []
   },
   "outputs": [
    {
     "name": "stderr",
     "output_type": "stream",
     "text": [
      "2022-01-29 06:59:56.485798: I tensorflow/compiler/mlir/mlir_graph_optimization_pass.cc:185] None of the MLIR Optimization Passes are enabled (registered 2)\n"
     ]
    },
    {
     "name": "stdout",
     "output_type": "stream",
     "text": [
      "Epoch 1/10\n",
      "250/250 [==============================] - 2s 3ms/step - loss: 0.2512 - accuracy: 0.9325 - val_loss: 0.1958 - val_accuracy: 0.9310\n",
      "Epoch 2/10\n",
      "250/250 [==============================] - 1s 2ms/step - loss: 0.1416 - accuracy: 0.9401 - val_loss: 0.1894 - val_accuracy: 0.9310\n",
      "Epoch 3/10\n",
      "250/250 [==============================] - 1s 3ms/step - loss: 0.1169 - accuracy: 0.9402 - val_loss: 0.1839 - val_accuracy: 0.9310\n",
      "Epoch 4/10\n",
      "250/250 [==============================] - 1s 3ms/step - loss: 0.1015 - accuracy: 0.9405 - val_loss: 0.1868 - val_accuracy: 0.9305\n",
      "Epoch 5/10\n",
      "250/250 [==============================] - 1s 2ms/step - loss: 0.0856 - accuracy: 0.9660 - val_loss: 0.1960 - val_accuracy: 0.9300\n",
      "Epoch 6/10\n",
      "250/250 [==============================] - 1s 2ms/step - loss: 0.0677 - accuracy: 0.9770 - val_loss: 0.2019 - val_accuracy: 0.9305\n",
      "Epoch 7/10\n",
      "250/250 [==============================] - 1s 2ms/step - loss: 0.0549 - accuracy: 0.9837 - val_loss: 0.2127 - val_accuracy: 0.9300\n",
      "Epoch 8/10\n",
      "250/250 [==============================] - 1s 2ms/step - loss: 0.0447 - accuracy: 0.9868 - val_loss: 0.2292 - val_accuracy: 0.9255\n",
      "Epoch 9/10\n",
      "250/250 [==============================] - 1s 2ms/step - loss: 0.0368 - accuracy: 0.9905 - val_loss: 0.2475 - val_accuracy: 0.9265\n",
      "Epoch 10/10\n",
      "250/250 [==============================] - 1s 2ms/step - loss: 0.0302 - accuracy: 0.9920 - val_loss: 0.2689 - val_accuracy: 0.9275\n"
     ]
    },
    {
     "data": {
      "text/plain": [
       "<keras.callbacks.History at 0x7f3f86168690>"
      ]
     },
     "execution_count": 39,
     "metadata": {},
     "output_type": "execute_result"
    }
   ],
   "source": [
    "model.fit(trainx_pad, trainy, epochs=10, \n",
    "          validation_data=(testx_pad, testy),\n",
    "          verbose=1)"
   ]
  },
  {
   "cell_type": "code",
   "execution_count": 40,
   "id": "022b9501",
   "metadata": {
    "execution": {
     "iopub.execute_input": "2022-01-29T07:00:04.196670Z",
     "iopub.status.busy": "2022-01-29T07:00:04.195852Z",
     "iopub.status.idle": "2022-01-29T07:00:04.376256Z",
     "shell.execute_reply": "2022-01-29T07:00:04.375791Z",
     "shell.execute_reply.started": "2022-01-15T05:48:52.482422Z"
    },
    "papermill": {
     "duration": 0.262719,
     "end_time": "2022-01-29T07:00:04.376374",
     "exception": false,
     "start_time": "2022-01-29T07:00:04.113655",
     "status": "completed"
    },
    "tags": []
   },
   "outputs": [
    {
     "name": "stdout",
     "output_type": "stream",
     "text": [
      "63/63 [==============================] - 0s 2ms/step - loss: 0.2689 - accuracy: 0.9275\n"
     ]
    },
    {
     "data": {
      "text/plain": [
       "[0.2688543200492859, 0.9275000095367432]"
      ]
     },
     "execution_count": 40,
     "metadata": {},
     "output_type": "execute_result"
    }
   ],
   "source": [
    "loss = model.evaluate(testx_pad, testy)\n",
    "loss"
   ]
  },
  {
   "cell_type": "markdown",
   "id": "ecbf7ad0",
   "metadata": {
    "papermill": {
     "duration": 0.074718,
     "end_time": "2022-01-29T07:00:04.527227",
     "exception": false,
     "start_time": "2022-01-29T07:00:04.452509",
     "status": "completed"
    },
    "tags": []
   },
   "source": [
    "## Model Prediction"
   ]
  },
  {
   "cell_type": "code",
   "execution_count": 41,
   "id": "daf57185",
   "metadata": {
    "execution": {
     "iopub.execute_input": "2022-01-29T07:00:04.686754Z",
     "iopub.status.busy": "2022-01-29T07:00:04.686234Z",
     "iopub.status.idle": "2022-01-29T07:00:14.757752Z",
     "shell.execute_reply": "2022-01-29T07:00:14.756861Z",
     "shell.execute_reply.started": "2022-01-15T06:05:21.712791Z"
    },
    "papermill": {
     "duration": 10.154716,
     "end_time": "2022-01-29T07:00:14.757892",
     "exception": false,
     "start_time": "2022-01-29T07:00:04.603176",
     "status": "completed"
    },
    "tags": []
   },
   "outputs": [
    {
     "name": "stderr",
     "output_type": "stream",
     "text": [
      "/opt/conda/lib/python3.7/site-packages/ipykernel_launcher.py:2: FutureWarning: The default value of regex will change from True to False in a future version.\n",
      "  \n"
     ]
    }
   ],
   "source": [
    "test_data = pd.read_csv('/kaggle/input/quora-insincere-questions-classification/test.csv')\n",
    "test_docs = test_data['question_text'].str.lower().str.replace('[^a-z\\s]','')\n",
    "testx_seq = tokenizer.texts_to_sequences(test_docs)\n",
    "testx_pad = pad_sequences(testx_seq, maxlen=max_doc_length, padding='post')"
   ]
  },
  {
   "cell_type": "code",
   "execution_count": 42,
   "id": "2c2448aa",
   "metadata": {
    "execution": {
     "iopub.execute_input": "2022-01-29T07:00:14.916473Z",
     "iopub.status.busy": "2022-01-29T07:00:14.915679Z",
     "iopub.status.idle": "2022-01-29T07:00:14.918948Z",
     "shell.execute_reply": "2022-01-29T07:00:14.918490Z",
     "shell.execute_reply.started": "2022-01-15T06:24:27.628854Z"
    },
    "papermill": {
     "duration": 0.083859,
     "end_time": "2022-01-29T07:00:14.919059",
     "exception": false,
     "start_time": "2022-01-29T07:00:14.835200",
     "status": "completed"
    },
    "tags": []
   },
   "outputs": [
    {
     "data": {
      "text/plain": [
       "(375806, 2)"
      ]
     },
     "execution_count": 42,
     "metadata": {},
     "output_type": "execute_result"
    }
   ],
   "source": [
    "test_data.shape"
   ]
  },
  {
   "cell_type": "code",
   "execution_count": 43,
   "id": "2f8fe733",
   "metadata": {
    "execution": {
     "iopub.execute_input": "2022-01-29T07:00:15.077175Z",
     "iopub.status.busy": "2022-01-29T07:00:15.076438Z",
     "iopub.status.idle": "2022-01-29T07:00:25.274394Z",
     "shell.execute_reply": "2022-01-29T07:00:25.273664Z",
     "shell.execute_reply.started": "2022-01-15T06:05:58.970734Z"
    },
    "papermill": {
     "duration": 10.277957,
     "end_time": "2022-01-29T07:00:25.274528",
     "exception": false,
     "start_time": "2022-01-29T07:00:14.996571",
     "status": "completed"
    },
    "tags": []
   },
   "outputs": [
    {
     "data": {
      "text/plain": [
       "array([[9.4993716e-01],\n",
       "       [3.7413832e-09],\n",
       "       [3.5575037e-03],\n",
       "       ...,\n",
       "       [8.0259579e-06],\n",
       "       [2.2282800e-06],\n",
       "       [3.1870455e-01]], dtype=float32)"
      ]
     },
     "execution_count": 43,
     "metadata": {},
     "output_type": "execute_result"
    }
   ],
   "source": [
    "testy_pred = model.predict(testx_pad)\n",
    "testy_pred"
   ]
  },
  {
   "cell_type": "code",
   "execution_count": 44,
   "id": "020974da",
   "metadata": {
    "execution": {
     "iopub.execute_input": "2022-01-29T07:00:25.444166Z",
     "iopub.status.busy": "2022-01-29T07:00:25.443413Z",
     "iopub.status.idle": "2022-01-29T07:00:25.446178Z",
     "shell.execute_reply": "2022-01-29T07:00:25.446681Z",
     "shell.execute_reply.started": "2022-01-15T06:19:58.573692Z"
    },
    "papermill": {
     "duration": 0.093942,
     "end_time": "2022-01-29T07:00:25.446811",
     "exception": false,
     "start_time": "2022-01-29T07:00:25.352869",
     "status": "completed"
    },
    "tags": []
   },
   "outputs": [
    {
     "data": {
      "text/plain": [
       "Index(['qid', 'question_text'], dtype='object')"
      ]
     },
     "execution_count": 44,
     "metadata": {},
     "output_type": "execute_result"
    }
   ],
   "source": [
    "test_data.columns"
   ]
  },
  {
   "cell_type": "code",
   "execution_count": 45,
   "id": "6b80fe10",
   "metadata": {
    "execution": {
     "iopub.execute_input": "2022-01-29T07:00:25.639710Z",
     "iopub.status.busy": "2022-01-29T07:00:25.614170Z",
     "iopub.status.idle": "2022-01-29T07:00:26.273310Z",
     "shell.execute_reply": "2022-01-29T07:00:26.272687Z",
     "shell.execute_reply.started": "2022-01-15T06:20:30.808725Z"
    },
    "papermill": {
     "duration": 0.749218,
     "end_time": "2022-01-29T07:00:26.273436",
     "exception": false,
     "start_time": "2022-01-29T07:00:25.524218",
     "status": "completed"
    },
    "tags": []
   },
   "outputs": [],
   "source": [
    "testy_classes = [1  if val>0.5 else 0 for val in testy_pred]"
   ]
  },
  {
   "cell_type": "code",
   "execution_count": 46,
   "id": "16cec31e",
   "metadata": {
    "execution": {
     "iopub.execute_input": "2022-01-29T07:00:26.436181Z",
     "iopub.status.busy": "2022-01-29T07:00:26.435432Z",
     "iopub.status.idle": "2022-01-29T07:00:26.587393Z",
     "shell.execute_reply": "2022-01-29T07:00:26.587826Z",
     "shell.execute_reply.started": "2022-01-15T06:23:35.985889Z"
    },
    "papermill": {
     "duration": 0.236262,
     "end_time": "2022-01-29T07:00:26.587973",
     "exception": false,
     "start_time": "2022-01-29T07:00:26.351711",
     "status": "completed"
    },
    "tags": []
   },
   "outputs": [
    {
     "data": {
      "text/html": [
       "<div>\n",
       "<style scoped>\n",
       "    .dataframe tbody tr th:only-of-type {\n",
       "        vertical-align: middle;\n",
       "    }\n",
       "\n",
       "    .dataframe tbody tr th {\n",
       "        vertical-align: top;\n",
       "    }\n",
       "\n",
       "    .dataframe thead th {\n",
       "        text-align: right;\n",
       "    }\n",
       "</style>\n",
       "<table border=\"1\" class=\"dataframe\">\n",
       "  <thead>\n",
       "    <tr style=\"text-align: right;\">\n",
       "      <th></th>\n",
       "      <th>qid</th>\n",
       "      <th>predicted_class</th>\n",
       "    </tr>\n",
       "  </thead>\n",
       "  <tbody>\n",
       "    <tr>\n",
       "      <th>0</th>\n",
       "      <td>0000163e3ea7c7a74cd7</td>\n",
       "      <td>1</td>\n",
       "    </tr>\n",
       "    <tr>\n",
       "      <th>1</th>\n",
       "      <td>00002bd4fb5d505b9161</td>\n",
       "      <td>0</td>\n",
       "    </tr>\n",
       "    <tr>\n",
       "      <th>2</th>\n",
       "      <td>00007756b4a147d2b0b3</td>\n",
       "      <td>0</td>\n",
       "    </tr>\n",
       "    <tr>\n",
       "      <th>3</th>\n",
       "      <td>000086e4b7e1c7146103</td>\n",
       "      <td>0</td>\n",
       "    </tr>\n",
       "    <tr>\n",
       "      <th>4</th>\n",
       "      <td>0000c4c3fbe8785a3090</td>\n",
       "      <td>0</td>\n",
       "    </tr>\n",
       "    <tr>\n",
       "      <th>...</th>\n",
       "      <td>...</td>\n",
       "      <td>...</td>\n",
       "    </tr>\n",
       "    <tr>\n",
       "      <th>375801</th>\n",
       "      <td>ffff7fa746bd6d6197a9</td>\n",
       "      <td>0</td>\n",
       "    </tr>\n",
       "    <tr>\n",
       "      <th>375802</th>\n",
       "      <td>ffffa1be31c43046ab6b</td>\n",
       "      <td>0</td>\n",
       "    </tr>\n",
       "    <tr>\n",
       "      <th>375803</th>\n",
       "      <td>ffffae173b6ca6bfa563</td>\n",
       "      <td>0</td>\n",
       "    </tr>\n",
       "    <tr>\n",
       "      <th>375804</th>\n",
       "      <td>ffffb1f7f1a008620287</td>\n",
       "      <td>0</td>\n",
       "    </tr>\n",
       "    <tr>\n",
       "      <th>375805</th>\n",
       "      <td>fffff85473f4699474b0</td>\n",
       "      <td>0</td>\n",
       "    </tr>\n",
       "  </tbody>\n",
       "</table>\n",
       "<p>375806 rows × 2 columns</p>\n",
       "</div>"
      ],
      "text/plain": [
       "                         qid  predicted_class\n",
       "0       0000163e3ea7c7a74cd7                1\n",
       "1       00002bd4fb5d505b9161                0\n",
       "2       00007756b4a147d2b0b3                0\n",
       "3       000086e4b7e1c7146103                0\n",
       "4       0000c4c3fbe8785a3090                0\n",
       "...                      ...              ...\n",
       "375801  ffff7fa746bd6d6197a9                0\n",
       "375802  ffffa1be31c43046ab6b                0\n",
       "375803  ffffae173b6ca6bfa563                0\n",
       "375804  ffffb1f7f1a008620287                0\n",
       "375805  fffff85473f4699474b0                0\n",
       "\n",
       "[375806 rows x 2 columns]"
      ]
     },
     "execution_count": 46,
     "metadata": {},
     "output_type": "execute_result"
    }
   ],
   "source": [
    "pred_result_df = pd.DataFrame({'qid':test_data['qid'], 'predicted_class':testy_classes})\n",
    "pred_result_df"
   ]
  },
  {
   "cell_type": "markdown",
   "id": "2a10d387",
   "metadata": {
    "papermill": {
     "duration": 0.077664,
     "end_time": "2022-01-29T07:00:26.743535",
     "exception": false,
     "start_time": "2022-01-29T07:00:26.665871",
     "status": "completed"
    },
    "tags": []
   },
   "source": [
    "# GLOVE\n",
    "* Glove doesn't use any Neural Networks.\n",
    "* It calculates similarity by doing a dot product of the word embeddings.\n",
    "* So Glove is a similarity that defines how often tokens cooccur together."
   ]
  },
  {
   "cell_type": "code",
   "execution_count": null,
   "id": "840cadab",
   "metadata": {
    "papermill": {
     "duration": 0.077599,
     "end_time": "2022-01-29T07:00:26.898983",
     "exception": false,
     "start_time": "2022-01-29T07:00:26.821384",
     "status": "completed"
    },
    "tags": []
   },
   "outputs": [],
   "source": []
  }
 ],
 "metadata": {
  "kernelspec": {
   "display_name": "Python 3",
   "language": "python",
   "name": "python3"
  },
  "language_info": {
   "codemirror_mode": {
    "name": "ipython",
    "version": 3
   },
   "file_extension": ".py",
   "mimetype": "text/x-python",
   "name": "python",
   "nbconvert_exporter": "python",
   "pygments_lexer": "ipython3",
   "version": "3.7.12"
  },
  "papermill": {
   "default_parameters": {},
   "duration": 239.612837,
   "end_time": "2022-01-29T07:00:30.308883",
   "environment_variables": {},
   "exception": null,
   "input_path": "__notebook__.ipynb",
   "output_path": "__notebook__.ipynb",
   "parameters": {},
   "start_time": "2022-01-29T06:56:30.696046",
   "version": "2.3.3"
  }
 },
 "nbformat": 4,
 "nbformat_minor": 5
}
